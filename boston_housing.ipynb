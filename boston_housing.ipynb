{
 "cells": [
  {
   "cell_type": "code",
   "execution_count": 179,
   "metadata": {},
   "outputs": [],
   "source": [
    "import numpy as np\n",
    "import pandas as pd\n",
    "import matplotlib.pyplot as plt\n",
    "import seaborn as sns\n",
    "import plotly.express as px\n",
    "%matplotlib inline\n",
    "cal_df = pd.read_csv('./archive/calendar.csv')\n",
    "list_df = pd.read_csv('./archive/listings.csv')\n",
    "review_df = pd.read_csv('./archive/reviews.csv')"
   ]
  },
  {
   "cell_type": "code",
   "execution_count": 180,
   "metadata": {},
   "outputs": [
    {
     "name": "stdout",
     "output_type": "stream",
     "text": [
      "(1308890, 4)\n",
      "(3585, 95)\n",
      "(68275, 6)\n"
     ]
    }
   ],
   "source": [
    "# loop check each dataset overall shape\n",
    "for item in [cal_df, list_df,review_df]:\n",
    "    print (item.shape)"
   ]
  },
  {
   "cell_type": "code",
   "execution_count": 181,
   "metadata": {},
   "outputs": [
    {
     "data": {
      "text/html": [
       "<div>\n",
       "<style scoped>\n",
       "    .dataframe tbody tr th:only-of-type {\n",
       "        vertical-align: middle;\n",
       "    }\n",
       "\n",
       "    .dataframe tbody tr th {\n",
       "        vertical-align: top;\n",
       "    }\n",
       "\n",
       "    .dataframe thead th {\n",
       "        text-align: right;\n",
       "    }\n",
       "</style>\n",
       "<table border=\"1\" class=\"dataframe\">\n",
       "  <thead>\n",
       "    <tr style=\"text-align: right;\">\n",
       "      <th></th>\n",
       "      <th>listing_id</th>\n",
       "      <th>date</th>\n",
       "      <th>available</th>\n",
       "      <th>price</th>\n",
       "    </tr>\n",
       "  </thead>\n",
       "  <tbody>\n",
       "    <tr>\n",
       "      <th>0</th>\n",
       "      <td>12147973</td>\n",
       "      <td>2017-09-05</td>\n",
       "      <td>f</td>\n",
       "      <td>NaN</td>\n",
       "    </tr>\n",
       "    <tr>\n",
       "      <th>1</th>\n",
       "      <td>12147973</td>\n",
       "      <td>2017-09-04</td>\n",
       "      <td>f</td>\n",
       "      <td>NaN</td>\n",
       "    </tr>\n",
       "    <tr>\n",
       "      <th>2</th>\n",
       "      <td>12147973</td>\n",
       "      <td>2017-09-03</td>\n",
       "      <td>f</td>\n",
       "      <td>NaN</td>\n",
       "    </tr>\n",
       "    <tr>\n",
       "      <th>3</th>\n",
       "      <td>12147973</td>\n",
       "      <td>2017-09-02</td>\n",
       "      <td>f</td>\n",
       "      <td>NaN</td>\n",
       "    </tr>\n",
       "    <tr>\n",
       "      <th>4</th>\n",
       "      <td>12147973</td>\n",
       "      <td>2017-09-01</td>\n",
       "      <td>f</td>\n",
       "      <td>NaN</td>\n",
       "    </tr>\n",
       "  </tbody>\n",
       "</table>\n",
       "</div>"
      ],
      "text/plain": [
       "   listing_id        date available price\n",
       "0    12147973  2017-09-05         f   NaN\n",
       "1    12147973  2017-09-04         f   NaN\n",
       "2    12147973  2017-09-03         f   NaN\n",
       "3    12147973  2017-09-02         f   NaN\n",
       "4    12147973  2017-09-01         f   NaN"
      ]
     },
     "metadata": {},
     "output_type": "display_data"
    },
    {
     "data": {
      "text/html": [
       "<div>\n",
       "<style scoped>\n",
       "    .dataframe tbody tr th:only-of-type {\n",
       "        vertical-align: middle;\n",
       "    }\n",
       "\n",
       "    .dataframe tbody tr th {\n",
       "        vertical-align: top;\n",
       "    }\n",
       "\n",
       "    .dataframe thead th {\n",
       "        text-align: right;\n",
       "    }\n",
       "</style>\n",
       "<table border=\"1\" class=\"dataframe\">\n",
       "  <thead>\n",
       "    <tr style=\"text-align: right;\">\n",
       "      <th></th>\n",
       "      <th>id</th>\n",
       "      <th>listing_url</th>\n",
       "      <th>scrape_id</th>\n",
       "      <th>last_scraped</th>\n",
       "      <th>name</th>\n",
       "      <th>summary</th>\n",
       "      <th>space</th>\n",
       "      <th>description</th>\n",
       "      <th>experiences_offered</th>\n",
       "      <th>neighborhood_overview</th>\n",
       "      <th>...</th>\n",
       "      <th>review_scores_value</th>\n",
       "      <th>requires_license</th>\n",
       "      <th>license</th>\n",
       "      <th>jurisdiction_names</th>\n",
       "      <th>instant_bookable</th>\n",
       "      <th>cancellation_policy</th>\n",
       "      <th>require_guest_profile_picture</th>\n",
       "      <th>require_guest_phone_verification</th>\n",
       "      <th>calculated_host_listings_count</th>\n",
       "      <th>reviews_per_month</th>\n",
       "    </tr>\n",
       "  </thead>\n",
       "  <tbody>\n",
       "    <tr>\n",
       "      <th>0</th>\n",
       "      <td>12147973</td>\n",
       "      <td>https://www.airbnb.com/rooms/12147973</td>\n",
       "      <td>20160906204935</td>\n",
       "      <td>2016-09-07</td>\n",
       "      <td>Sunny Bungalow in the City</td>\n",
       "      <td>Cozy, sunny, family home.  Master bedroom high...</td>\n",
       "      <td>The house has an open and cozy feel at the sam...</td>\n",
       "      <td>Cozy, sunny, family home.  Master bedroom high...</td>\n",
       "      <td>none</td>\n",
       "      <td>Roslindale is quiet, convenient and friendly. ...</td>\n",
       "      <td>...</td>\n",
       "      <td>NaN</td>\n",
       "      <td>f</td>\n",
       "      <td>NaN</td>\n",
       "      <td>NaN</td>\n",
       "      <td>f</td>\n",
       "      <td>moderate</td>\n",
       "      <td>f</td>\n",
       "      <td>f</td>\n",
       "      <td>1</td>\n",
       "      <td>NaN</td>\n",
       "    </tr>\n",
       "    <tr>\n",
       "      <th>1</th>\n",
       "      <td>3075044</td>\n",
       "      <td>https://www.airbnb.com/rooms/3075044</td>\n",
       "      <td>20160906204935</td>\n",
       "      <td>2016-09-07</td>\n",
       "      <td>Charming room in pet friendly apt</td>\n",
       "      <td>Charming and quiet room in a second floor 1910...</td>\n",
       "      <td>Small but cozy and quite room with a full size...</td>\n",
       "      <td>Charming and quiet room in a second floor 1910...</td>\n",
       "      <td>none</td>\n",
       "      <td>The room is in Roslindale, a diverse and prima...</td>\n",
       "      <td>...</td>\n",
       "      <td>9.0</td>\n",
       "      <td>f</td>\n",
       "      <td>NaN</td>\n",
       "      <td>NaN</td>\n",
       "      <td>t</td>\n",
       "      <td>moderate</td>\n",
       "      <td>f</td>\n",
       "      <td>f</td>\n",
       "      <td>1</td>\n",
       "      <td>1.30</td>\n",
       "    </tr>\n",
       "    <tr>\n",
       "      <th>2</th>\n",
       "      <td>6976</td>\n",
       "      <td>https://www.airbnb.com/rooms/6976</td>\n",
       "      <td>20160906204935</td>\n",
       "      <td>2016-09-07</td>\n",
       "      <td>Mexican Folk Art Haven in Boston</td>\n",
       "      <td>Come stay with a friendly, middle-aged guy in ...</td>\n",
       "      <td>Come stay with a friendly, middle-aged guy in ...</td>\n",
       "      <td>Come stay with a friendly, middle-aged guy in ...</td>\n",
       "      <td>none</td>\n",
       "      <td>The LOCATION: Roslindale is a safe and diverse...</td>\n",
       "      <td>...</td>\n",
       "      <td>10.0</td>\n",
       "      <td>f</td>\n",
       "      <td>NaN</td>\n",
       "      <td>NaN</td>\n",
       "      <td>f</td>\n",
       "      <td>moderate</td>\n",
       "      <td>t</td>\n",
       "      <td>f</td>\n",
       "      <td>1</td>\n",
       "      <td>0.47</td>\n",
       "    </tr>\n",
       "    <tr>\n",
       "      <th>3</th>\n",
       "      <td>1436513</td>\n",
       "      <td>https://www.airbnb.com/rooms/1436513</td>\n",
       "      <td>20160906204935</td>\n",
       "      <td>2016-09-07</td>\n",
       "      <td>Spacious Sunny Bedroom Suite in Historic Home</td>\n",
       "      <td>Come experience the comforts of home away from...</td>\n",
       "      <td>Most places you find in Boston are small howev...</td>\n",
       "      <td>Come experience the comforts of home away from...</td>\n",
       "      <td>none</td>\n",
       "      <td>Roslindale is a lovely little neighborhood loc...</td>\n",
       "      <td>...</td>\n",
       "      <td>10.0</td>\n",
       "      <td>f</td>\n",
       "      <td>NaN</td>\n",
       "      <td>NaN</td>\n",
       "      <td>f</td>\n",
       "      <td>moderate</td>\n",
       "      <td>f</td>\n",
       "      <td>f</td>\n",
       "      <td>1</td>\n",
       "      <td>1.00</td>\n",
       "    </tr>\n",
       "    <tr>\n",
       "      <th>4</th>\n",
       "      <td>7651065</td>\n",
       "      <td>https://www.airbnb.com/rooms/7651065</td>\n",
       "      <td>20160906204935</td>\n",
       "      <td>2016-09-07</td>\n",
       "      <td>Come Home to Boston</td>\n",
       "      <td>My comfy, clean and relaxing home is one block...</td>\n",
       "      <td>Clean, attractive, private room, one block fro...</td>\n",
       "      <td>My comfy, clean and relaxing home is one block...</td>\n",
       "      <td>none</td>\n",
       "      <td>I love the proximity to downtown, the neighbor...</td>\n",
       "      <td>...</td>\n",
       "      <td>10.0</td>\n",
       "      <td>f</td>\n",
       "      <td>NaN</td>\n",
       "      <td>NaN</td>\n",
       "      <td>f</td>\n",
       "      <td>flexible</td>\n",
       "      <td>f</td>\n",
       "      <td>f</td>\n",
       "      <td>1</td>\n",
       "      <td>2.25</td>\n",
       "    </tr>\n",
       "  </tbody>\n",
       "</table>\n",
       "<p>5 rows × 95 columns</p>\n",
       "</div>"
      ],
      "text/plain": [
       "         id                            listing_url       scrape_id  \\\n",
       "0  12147973  https://www.airbnb.com/rooms/12147973  20160906204935   \n",
       "1   3075044   https://www.airbnb.com/rooms/3075044  20160906204935   \n",
       "2      6976      https://www.airbnb.com/rooms/6976  20160906204935   \n",
       "3   1436513   https://www.airbnb.com/rooms/1436513  20160906204935   \n",
       "4   7651065   https://www.airbnb.com/rooms/7651065  20160906204935   \n",
       "\n",
       "  last_scraped                                           name  \\\n",
       "0   2016-09-07                     Sunny Bungalow in the City   \n",
       "1   2016-09-07              Charming room in pet friendly apt   \n",
       "2   2016-09-07               Mexican Folk Art Haven in Boston   \n",
       "3   2016-09-07  Spacious Sunny Bedroom Suite in Historic Home   \n",
       "4   2016-09-07                            Come Home to Boston   \n",
       "\n",
       "                                             summary  \\\n",
       "0  Cozy, sunny, family home.  Master bedroom high...   \n",
       "1  Charming and quiet room in a second floor 1910...   \n",
       "2  Come stay with a friendly, middle-aged guy in ...   \n",
       "3  Come experience the comforts of home away from...   \n",
       "4  My comfy, clean and relaxing home is one block...   \n",
       "\n",
       "                                               space  \\\n",
       "0  The house has an open and cozy feel at the sam...   \n",
       "1  Small but cozy and quite room with a full size...   \n",
       "2  Come stay with a friendly, middle-aged guy in ...   \n",
       "3  Most places you find in Boston are small howev...   \n",
       "4  Clean, attractive, private room, one block fro...   \n",
       "\n",
       "                                         description experiences_offered  \\\n",
       "0  Cozy, sunny, family home.  Master bedroom high...                none   \n",
       "1  Charming and quiet room in a second floor 1910...                none   \n",
       "2  Come stay with a friendly, middle-aged guy in ...                none   \n",
       "3  Come experience the comforts of home away from...                none   \n",
       "4  My comfy, clean and relaxing home is one block...                none   \n",
       "\n",
       "                               neighborhood_overview  ... review_scores_value  \\\n",
       "0  Roslindale is quiet, convenient and friendly. ...  ...                 NaN   \n",
       "1  The room is in Roslindale, a diverse and prima...  ...                 9.0   \n",
       "2  The LOCATION: Roslindale is a safe and diverse...  ...                10.0   \n",
       "3  Roslindale is a lovely little neighborhood loc...  ...                10.0   \n",
       "4  I love the proximity to downtown, the neighbor...  ...                10.0   \n",
       "\n",
       "  requires_license license jurisdiction_names instant_bookable  \\\n",
       "0                f     NaN                NaN                f   \n",
       "1                f     NaN                NaN                t   \n",
       "2                f     NaN                NaN                f   \n",
       "3                f     NaN                NaN                f   \n",
       "4                f     NaN                NaN                f   \n",
       "\n",
       "  cancellation_policy require_guest_profile_picture  \\\n",
       "0            moderate                             f   \n",
       "1            moderate                             f   \n",
       "2            moderate                             t   \n",
       "3            moderate                             f   \n",
       "4            flexible                             f   \n",
       "\n",
       "  require_guest_phone_verification calculated_host_listings_count  \\\n",
       "0                                f                              1   \n",
       "1                                f                              1   \n",
       "2                                f                              1   \n",
       "3                                f                              1   \n",
       "4                                f                              1   \n",
       "\n",
       "   reviews_per_month  \n",
       "0                NaN  \n",
       "1               1.30  \n",
       "2               0.47  \n",
       "3               1.00  \n",
       "4               2.25  \n",
       "\n",
       "[5 rows x 95 columns]"
      ]
     },
     "metadata": {},
     "output_type": "display_data"
    },
    {
     "data": {
      "text/html": [
       "<div>\n",
       "<style scoped>\n",
       "    .dataframe tbody tr th:only-of-type {\n",
       "        vertical-align: middle;\n",
       "    }\n",
       "\n",
       "    .dataframe tbody tr th {\n",
       "        vertical-align: top;\n",
       "    }\n",
       "\n",
       "    .dataframe thead th {\n",
       "        text-align: right;\n",
       "    }\n",
       "</style>\n",
       "<table border=\"1\" class=\"dataframe\">\n",
       "  <thead>\n",
       "    <tr style=\"text-align: right;\">\n",
       "      <th></th>\n",
       "      <th>listing_id</th>\n",
       "      <th>id</th>\n",
       "      <th>date</th>\n",
       "      <th>reviewer_id</th>\n",
       "      <th>reviewer_name</th>\n",
       "      <th>comments</th>\n",
       "    </tr>\n",
       "  </thead>\n",
       "  <tbody>\n",
       "    <tr>\n",
       "      <th>0</th>\n",
       "      <td>1178162</td>\n",
       "      <td>4724140</td>\n",
       "      <td>2013-05-21</td>\n",
       "      <td>4298113</td>\n",
       "      <td>Olivier</td>\n",
       "      <td>My stay at islam's place was really cool! Good...</td>\n",
       "    </tr>\n",
       "    <tr>\n",
       "      <th>1</th>\n",
       "      <td>1178162</td>\n",
       "      <td>4869189</td>\n",
       "      <td>2013-05-29</td>\n",
       "      <td>6452964</td>\n",
       "      <td>Charlotte</td>\n",
       "      <td>Great location for both airport and city - gre...</td>\n",
       "    </tr>\n",
       "    <tr>\n",
       "      <th>2</th>\n",
       "      <td>1178162</td>\n",
       "      <td>5003196</td>\n",
       "      <td>2013-06-06</td>\n",
       "      <td>6449554</td>\n",
       "      <td>Sebastian</td>\n",
       "      <td>We really enjoyed our stay at Islams house. Fr...</td>\n",
       "    </tr>\n",
       "    <tr>\n",
       "      <th>3</th>\n",
       "      <td>1178162</td>\n",
       "      <td>5150351</td>\n",
       "      <td>2013-06-15</td>\n",
       "      <td>2215611</td>\n",
       "      <td>Marine</td>\n",
       "      <td>The room was nice and clean and so were the co...</td>\n",
       "    </tr>\n",
       "    <tr>\n",
       "      <th>4</th>\n",
       "      <td>1178162</td>\n",
       "      <td>5171140</td>\n",
       "      <td>2013-06-16</td>\n",
       "      <td>6848427</td>\n",
       "      <td>Andrew</td>\n",
       "      <td>Great location. Just 5 mins walk from the Airp...</td>\n",
       "    </tr>\n",
       "  </tbody>\n",
       "</table>\n",
       "</div>"
      ],
      "text/plain": [
       "   listing_id       id        date  reviewer_id reviewer_name  \\\n",
       "0     1178162  4724140  2013-05-21      4298113       Olivier   \n",
       "1     1178162  4869189  2013-05-29      6452964     Charlotte   \n",
       "2     1178162  5003196  2013-06-06      6449554     Sebastian   \n",
       "3     1178162  5150351  2013-06-15      2215611        Marine   \n",
       "4     1178162  5171140  2013-06-16      6848427        Andrew   \n",
       "\n",
       "                                            comments  \n",
       "0  My stay at islam's place was really cool! Good...  \n",
       "1  Great location for both airport and city - gre...  \n",
       "2  We really enjoyed our stay at Islams house. Fr...  \n",
       "3  The room was nice and clean and so were the co...  \n",
       "4  Great location. Just 5 mins walk from the Airp...  "
      ]
     },
     "metadata": {},
     "output_type": "display_data"
    }
   ],
   "source": [
    "# loop check each dataset overall values\n",
    "for item in [cal_df, list_df,review_df]:\n",
    "    display(item.head(5))"
   ]
  },
  {
   "cell_type": "code",
   "execution_count": 182,
   "metadata": {},
   "outputs": [
    {
     "name": "stdout",
     "output_type": "stream",
     "text": [
      "{'available', 'listing_id', 'date'}\n",
      "{'room_type', 'host_total_listings_count', 'street', 'availability_60', 'host_is_superhost', 'host_verifications', 'host_has_profile_pic', 'name', 'scrape_id', 'id', 'country', 'state', 'last_scraped', 'number_of_reviews', 'require_guest_profile_picture', 'requires_license', 'host_name', 'host_identity_verified', 'calendar_last_scraped', 'host_picture_url', 'description', 'country_code', 'require_guest_phone_verification', 'experiences_offered', 'price', 'smart_location', 'host_since', 'extra_people', 'availability_365', 'calculated_host_listings_count', 'host_thumbnail_url', 'instant_bookable', 'longitude', 'availability_30', 'bed_type', 'latitude', 'listing_url', 'minimum_nights', 'neighbourhood_cleansed', 'availability_90', 'host_id', 'amenities', 'accommodates', 'host_listings_count', 'guests_included', 'cancellation_policy', 'calendar_updated', 'picture_url', 'host_url', 'maximum_nights', 'is_location_exact'}\n",
      "{'date', 'listing_id', 'reviewer_id', 'reviewer_name', 'id'}\n",
      "----------\n",
      "{'price'}\n",
      "{'notes', 'jurisdiction_names', 'square_feet', 'license', 'has_availability', 'weekly_price', 'neighbourhood_group_cleansed', 'monthly_price', 'security_deposit'}\n",
      "set()\n"
     ]
    }
   ],
   "source": [
    "# Check which coloumns have null missing values\n",
    "for item in [cal_df, list_df,review_df]:\n",
    "    print(set(item.columns[item.isnull().mean()==0]))\n",
    "print(\"----------\")\n",
    "# Check which columns have most missing values\n",
    "for item in [cal_df, list_df,review_df]:\n",
    "    print(set(item.columns[item.isnull().mean() > 0.5]))"
   ]
  },
  {
   "cell_type": "code",
   "execution_count": 183,
   "metadata": {},
   "outputs": [
    {
     "name": "stdout",
     "output_type": "stream",
     "text": [
      "<class 'pandas.core.frame.DataFrame'>\n",
      "RangeIndex: 1308890 entries, 0 to 1308889\n",
      "Data columns (total 4 columns):\n",
      " #   Column      Non-Null Count    Dtype \n",
      "---  ------      --------------    ----- \n",
      " 0   listing_id  1308890 non-null  int64 \n",
      " 1   date        1308890 non-null  object\n",
      " 2   available   1308890 non-null  object\n",
      " 3   price       643037 non-null   object\n",
      "dtypes: int64(1), object(3)\n",
      "memory usage: 39.9+ MB\n",
      "------ ***** --------\n",
      "<class 'pandas.core.frame.DataFrame'>\n",
      "RangeIndex: 3585 entries, 0 to 3584\n",
      "Data columns (total 95 columns):\n",
      " #   Column                            Non-Null Count  Dtype  \n",
      "---  ------                            --------------  -----  \n",
      " 0   id                                3585 non-null   int64  \n",
      " 1   listing_url                       3585 non-null   object \n",
      " 2   scrape_id                         3585 non-null   int64  \n",
      " 3   last_scraped                      3585 non-null   object \n",
      " 4   name                              3585 non-null   object \n",
      " 5   summary                           3442 non-null   object \n",
      " 6   space                             2528 non-null   object \n",
      " 7   description                       3585 non-null   object \n",
      " 8   experiences_offered               3585 non-null   object \n",
      " 9   neighborhood_overview             2170 non-null   object \n",
      " 10  notes                             1610 non-null   object \n",
      " 11  transit                           2295 non-null   object \n",
      " 12  access                            2096 non-null   object \n",
      " 13  interaction                       2031 non-null   object \n",
      " 14  house_rules                       2393 non-null   object \n",
      " 15  thumbnail_url                     2986 non-null   object \n",
      " 16  medium_url                        2986 non-null   object \n",
      " 17  picture_url                       3585 non-null   object \n",
      " 18  xl_picture_url                    2986 non-null   object \n",
      " 19  host_id                           3585 non-null   int64  \n",
      " 20  host_url                          3585 non-null   object \n",
      " 21  host_name                         3585 non-null   object \n",
      " 22  host_since                        3585 non-null   object \n",
      " 23  host_location                     3574 non-null   object \n",
      " 24  host_about                        2276 non-null   object \n",
      " 25  host_response_time                3114 non-null   object \n",
      " 26  host_response_rate                3114 non-null   object \n",
      " 27  host_acceptance_rate              3114 non-null   object \n",
      " 28  host_is_superhost                 3585 non-null   object \n",
      " 29  host_thumbnail_url                3585 non-null   object \n",
      " 30  host_picture_url                  3585 non-null   object \n",
      " 31  host_neighbourhood                3246 non-null   object \n",
      " 32  host_listings_count               3585 non-null   int64  \n",
      " 33  host_total_listings_count         3585 non-null   int64  \n",
      " 34  host_verifications                3585 non-null   object \n",
      " 35  host_has_profile_pic              3585 non-null   object \n",
      " 36  host_identity_verified            3585 non-null   object \n",
      " 37  street                            3585 non-null   object \n",
      " 38  neighbourhood                     3042 non-null   object \n",
      " 39  neighbourhood_cleansed            3585 non-null   object \n",
      " 40  neighbourhood_group_cleansed      0 non-null      float64\n",
      " 41  city                              3583 non-null   object \n",
      " 42  state                             3585 non-null   object \n",
      " 43  zipcode                           3547 non-null   object \n",
      " 44  market                            3571 non-null   object \n",
      " 45  smart_location                    3585 non-null   object \n",
      " 46  country_code                      3585 non-null   object \n",
      " 47  country                           3585 non-null   object \n",
      " 48  latitude                          3585 non-null   float64\n",
      " 49  longitude                         3585 non-null   float64\n",
      " 50  is_location_exact                 3585 non-null   object \n",
      " 51  property_type                     3582 non-null   object \n",
      " 52  room_type                         3585 non-null   object \n",
      " 53  accommodates                      3585 non-null   int64  \n",
      " 54  bathrooms                         3571 non-null   float64\n",
      " 55  bedrooms                          3575 non-null   float64\n",
      " 56  beds                              3576 non-null   float64\n",
      " 57  bed_type                          3585 non-null   object \n",
      " 58  amenities                         3585 non-null   object \n",
      " 59  square_feet                       56 non-null     float64\n",
      " 60  price                             3585 non-null   object \n",
      " 61  weekly_price                      892 non-null    object \n",
      " 62  monthly_price                     888 non-null    object \n",
      " 63  security_deposit                  1342 non-null   object \n",
      " 64  cleaning_fee                      2478 non-null   object \n",
      " 65  guests_included                   3585 non-null   int64  \n",
      " 66  extra_people                      3585 non-null   object \n",
      " 67  minimum_nights                    3585 non-null   int64  \n",
      " 68  maximum_nights                    3585 non-null   int64  \n",
      " 69  calendar_updated                  3585 non-null   object \n",
      " 70  has_availability                  0 non-null      float64\n",
      " 71  availability_30                   3585 non-null   int64  \n",
      " 72  availability_60                   3585 non-null   int64  \n",
      " 73  availability_90                   3585 non-null   int64  \n",
      " 74  availability_365                  3585 non-null   int64  \n",
      " 75  calendar_last_scraped             3585 non-null   object \n",
      " 76  number_of_reviews                 3585 non-null   int64  \n",
      " 77  first_review                      2829 non-null   object \n",
      " 78  last_review                       2829 non-null   object \n",
      " 79  review_scores_rating              2772 non-null   float64\n",
      " 80  review_scores_accuracy            2762 non-null   float64\n",
      " 81  review_scores_cleanliness         2767 non-null   float64\n",
      " 82  review_scores_checkin             2765 non-null   float64\n",
      " 83  review_scores_communication       2767 non-null   float64\n",
      " 84  review_scores_location            2763 non-null   float64\n",
      " 85  review_scores_value               2764 non-null   float64\n",
      " 86  requires_license                  3585 non-null   object \n",
      " 87  license                           0 non-null      float64\n",
      " 88  jurisdiction_names                0 non-null      float64\n",
      " 89  instant_bookable                  3585 non-null   object \n",
      " 90  cancellation_policy               3585 non-null   object \n",
      " 91  require_guest_profile_picture     3585 non-null   object \n",
      " 92  require_guest_phone_verification  3585 non-null   object \n",
      " 93  calculated_host_listings_count    3585 non-null   int64  \n",
      " 94  reviews_per_month                 2829 non-null   float64\n",
      "dtypes: float64(18), int64(15), object(62)\n",
      "memory usage: 2.6+ MB\n",
      "------ ***** --------\n",
      "<class 'pandas.core.frame.DataFrame'>\n",
      "RangeIndex: 68275 entries, 0 to 68274\n",
      "Data columns (total 6 columns):\n",
      " #   Column         Non-Null Count  Dtype \n",
      "---  ------         --------------  ----- \n",
      " 0   listing_id     68275 non-null  int64 \n",
      " 1   id             68275 non-null  int64 \n",
      " 2   date           68275 non-null  object\n",
      " 3   reviewer_id    68275 non-null  int64 \n",
      " 4   reviewer_name  68275 non-null  object\n",
      " 5   comments       68222 non-null  object\n",
      "dtypes: int64(3), object(3)\n",
      "memory usage: 3.1+ MB\n",
      "------ ***** --------\n"
     ]
    }
   ],
   "source": [
    "for item in [cal_df, list_df,review_df]:\n",
    "    item.info()\n",
    "    print('------ ***** --------')\n"
   ]
  },
  {
   "cell_type": "markdown",
   "metadata": {},
   "source": [
    "### Data Preparation"
   ]
  },
  {
   "cell_type": "code",
   "execution_count": 184,
   "metadata": {},
   "outputs": [
    {
     "name": "stdout",
     "output_type": "stream",
     "text": [
      "(3585, 95)\n",
      "(3585, 91)\n"
     ]
    }
   ],
   "source": [
    "# Drop NaN existed all for columns\n",
    "print(list_df.shape)\n",
    "list_df.dropna(axis=1,how='all', inplace=True)\n",
    "print(list_df.shape)"
   ]
  },
  {
   "cell_type": "code",
   "execution_count": 185,
   "metadata": {},
   "outputs": [
    {
     "name": "stdout",
     "output_type": "stream",
     "text": [
      "(3557, 91)\n"
     ]
    }
   ],
   "source": [
    "# dropping nan values for bathrooms, bedrooms and beds because of its importantance with house itself\n",
    "list_df.dropna(axis = 0, subset = [\"bathrooms\", \"bedrooms\", \"beds\"], inplace = True)\n",
    "print(list_df.shape)"
   ]
  },
  {
   "cell_type": "code",
   "execution_count": 186,
   "metadata": {},
   "outputs": [],
   "source": [
    "# convert the string values for price to integer so as to make further calcualtion\n",
    "for x in [\"cleaning_fee\", \"security_deposit\", \"price\"]:\n",
    "    list_df[x] = list_df[x].map(lambda x: x.replace(\"$\",'').replace(\",\",''), na_action = 'ignore')\n",
    "    list_df[x] = list_df[x].astype(float)\n",
    "    list_df[x].fillna(list_df[x].median(), inplace = True)\n"
   ]
  },
  {
   "cell_type": "code",
   "execution_count": 187,
   "metadata": {},
   "outputs": [
    {
     "name": "stdout",
     "output_type": "stream",
     "text": [
      "<class 'pandas.core.frame.DataFrame'>\n",
      "Int64Index: 3557 entries, 0 to 3584\n",
      "Data columns (total 91 columns):\n",
      " #   Column                            Non-Null Count  Dtype  \n",
      "---  ------                            --------------  -----  \n",
      " 0   id                                3557 non-null   int64  \n",
      " 1   listing_url                       3557 non-null   object \n",
      " 2   scrape_id                         3557 non-null   int64  \n",
      " 3   last_scraped                      3557 non-null   object \n",
      " 4   name                              3557 non-null   object \n",
      " 5   summary                           3431 non-null   object \n",
      " 6   space                             2503 non-null   object \n",
      " 7   description                       3557 non-null   object \n",
      " 8   experiences_offered               3557 non-null   object \n",
      " 9   neighborhood_overview             2162 non-null   object \n",
      " 10  notes                             1604 non-null   object \n",
      " 11  transit                           2287 non-null   object \n",
      " 12  access                            2089 non-null   object \n",
      " 13  interaction                       2024 non-null   object \n",
      " 14  house_rules                       2377 non-null   object \n",
      " 15  thumbnail_url                     2965 non-null   object \n",
      " 16  medium_url                        2965 non-null   object \n",
      " 17  picture_url                       3557 non-null   object \n",
      " 18  xl_picture_url                    2965 non-null   object \n",
      " 19  host_id                           3557 non-null   int64  \n",
      " 20  host_url                          3557 non-null   object \n",
      " 21  host_name                         3557 non-null   object \n",
      " 22  host_since                        3557 non-null   object \n",
      " 23  host_location                     3546 non-null   object \n",
      " 24  host_about                        2255 non-null   object \n",
      " 25  host_response_time                3088 non-null   object \n",
      " 26  host_response_rate                3088 non-null   object \n",
      " 27  host_acceptance_rate              3088 non-null   object \n",
      " 28  host_is_superhost                 3557 non-null   object \n",
      " 29  host_thumbnail_url                3557 non-null   object \n",
      " 30  host_picture_url                  3557 non-null   object \n",
      " 31  host_neighbourhood                3223 non-null   object \n",
      " 32  host_listings_count               3557 non-null   int64  \n",
      " 33  host_total_listings_count         3557 non-null   int64  \n",
      " 34  host_verifications                3557 non-null   object \n",
      " 35  host_has_profile_pic              3557 non-null   object \n",
      " 36  host_identity_verified            3557 non-null   object \n",
      " 37  street                            3557 non-null   object \n",
      " 38  neighbourhood                     3020 non-null   object \n",
      " 39  neighbourhood_cleansed            3557 non-null   object \n",
      " 40  city                              3555 non-null   object \n",
      " 41  state                             3557 non-null   object \n",
      " 42  zipcode                           3521 non-null   object \n",
      " 43  market                            3543 non-null   object \n",
      " 44  smart_location                    3557 non-null   object \n",
      " 45  country_code                      3557 non-null   object \n",
      " 46  country                           3557 non-null   object \n",
      " 47  latitude                          3557 non-null   float64\n",
      " 48  longitude                         3557 non-null   float64\n",
      " 49  is_location_exact                 3557 non-null   object \n",
      " 50  property_type                     3554 non-null   object \n",
      " 51  room_type                         3557 non-null   object \n",
      " 52  accommodates                      3557 non-null   int64  \n",
      " 53  bathrooms                         3557 non-null   float64\n",
      " 54  bedrooms                          3557 non-null   float64\n",
      " 55  beds                              3557 non-null   float64\n",
      " 56  bed_type                          3557 non-null   object \n",
      " 57  amenities                         3557 non-null   object \n",
      " 58  square_feet                       56 non-null     float64\n",
      " 59  price                             3557 non-null   float64\n",
      " 60  weekly_price                      888 non-null    object \n",
      " 61  monthly_price                     874 non-null    object \n",
      " 62  security_deposit                  3557 non-null   float64\n",
      " 63  cleaning_fee                      3557 non-null   float64\n",
      " 64  guests_included                   3557 non-null   int64  \n",
      " 65  extra_people                      3557 non-null   object \n",
      " 66  minimum_nights                    3557 non-null   int64  \n",
      " 67  maximum_nights                    3557 non-null   int64  \n",
      " 68  calendar_updated                  3557 non-null   object \n",
      " 69  availability_30                   3557 non-null   int64  \n",
      " 70  availability_60                   3557 non-null   int64  \n",
      " 71  availability_90                   3557 non-null   int64  \n",
      " 72  availability_365                  3557 non-null   int64  \n",
      " 73  calendar_last_scraped             3557 non-null   object \n",
      " 74  number_of_reviews                 3557 non-null   int64  \n",
      " 75  first_review                      2807 non-null   object \n",
      " 76  last_review                       2807 non-null   object \n",
      " 77  review_scores_rating              2751 non-null   float64\n",
      " 78  review_scores_accuracy            2740 non-null   float64\n",
      " 79  review_scores_cleanliness         2745 non-null   float64\n",
      " 80  review_scores_checkin             2743 non-null   float64\n",
      " 81  review_scores_communication       2745 non-null   float64\n",
      " 82  review_scores_location            2741 non-null   float64\n",
      " 83  review_scores_value               2742 non-null   float64\n",
      " 84  requires_license                  3557 non-null   object \n",
      " 85  instant_bookable                  3557 non-null   object \n",
      " 86  cancellation_policy               3557 non-null   object \n",
      " 87  require_guest_profile_picture     3557 non-null   object \n",
      " 88  require_guest_phone_verification  3557 non-null   object \n",
      " 89  calculated_host_listings_count    3557 non-null   int64  \n",
      " 90  reviews_per_month                 2807 non-null   float64\n",
      "dtypes: float64(17), int64(15), object(59)\n",
      "memory usage: 2.5+ MB\n"
     ]
    }
   ],
   "source": [
    "list_df.info()\n"
   ]
  },
  {
   "cell_type": "code",
   "execution_count": 188,
   "metadata": {},
   "outputs": [
    {
     "data": {
      "text/html": [
       "<div>\n",
       "<style scoped>\n",
       "    .dataframe tbody tr th:only-of-type {\n",
       "        vertical-align: middle;\n",
       "    }\n",
       "\n",
       "    .dataframe tbody tr th {\n",
       "        vertical-align: top;\n",
       "    }\n",
       "\n",
       "    .dataframe thead th {\n",
       "        text-align: right;\n",
       "    }\n",
       "</style>\n",
       "<table border=\"1\" class=\"dataframe\">\n",
       "  <thead>\n",
       "    <tr style=\"text-align: right;\">\n",
       "      <th></th>\n",
       "      <th>id</th>\n",
       "      <th>scrape_id</th>\n",
       "      <th>host_id</th>\n",
       "      <th>host_listings_count</th>\n",
       "      <th>host_total_listings_count</th>\n",
       "      <th>latitude</th>\n",
       "      <th>longitude</th>\n",
       "      <th>accommodates</th>\n",
       "      <th>bathrooms</th>\n",
       "      <th>bedrooms</th>\n",
       "      <th>...</th>\n",
       "      <th>number_of_reviews</th>\n",
       "      <th>review_scores_rating</th>\n",
       "      <th>review_scores_accuracy</th>\n",
       "      <th>review_scores_cleanliness</th>\n",
       "      <th>review_scores_checkin</th>\n",
       "      <th>review_scores_communication</th>\n",
       "      <th>review_scores_location</th>\n",
       "      <th>review_scores_value</th>\n",
       "      <th>calculated_host_listings_count</th>\n",
       "      <th>reviews_per_month</th>\n",
       "    </tr>\n",
       "  </thead>\n",
       "  <tbody>\n",
       "    <tr>\n",
       "      <th>0</th>\n",
       "      <td>12147973</td>\n",
       "      <td>20160906204935</td>\n",
       "      <td>31303940</td>\n",
       "      <td>1</td>\n",
       "      <td>1</td>\n",
       "      <td>42.282619</td>\n",
       "      <td>-71.133068</td>\n",
       "      <td>4</td>\n",
       "      <td>1.5</td>\n",
       "      <td>2.0</td>\n",
       "      <td>...</td>\n",
       "      <td>0</td>\n",
       "      <td>NaN</td>\n",
       "      <td>NaN</td>\n",
       "      <td>NaN</td>\n",
       "      <td>NaN</td>\n",
       "      <td>NaN</td>\n",
       "      <td>NaN</td>\n",
       "      <td>NaN</td>\n",
       "      <td>1</td>\n",
       "      <td>NaN</td>\n",
       "    </tr>\n",
       "    <tr>\n",
       "      <th>1</th>\n",
       "      <td>3075044</td>\n",
       "      <td>20160906204935</td>\n",
       "      <td>2572247</td>\n",
       "      <td>1</td>\n",
       "      <td>1</td>\n",
       "      <td>42.286241</td>\n",
       "      <td>-71.134374</td>\n",
       "      <td>2</td>\n",
       "      <td>1.0</td>\n",
       "      <td>1.0</td>\n",
       "      <td>...</td>\n",
       "      <td>36</td>\n",
       "      <td>94.0</td>\n",
       "      <td>10.0</td>\n",
       "      <td>9.0</td>\n",
       "      <td>10.0</td>\n",
       "      <td>10.0</td>\n",
       "      <td>9.0</td>\n",
       "      <td>9.0</td>\n",
       "      <td>1</td>\n",
       "      <td>1.30</td>\n",
       "    </tr>\n",
       "    <tr>\n",
       "      <th>2</th>\n",
       "      <td>6976</td>\n",
       "      <td>20160906204935</td>\n",
       "      <td>16701</td>\n",
       "      <td>1</td>\n",
       "      <td>1</td>\n",
       "      <td>42.292438</td>\n",
       "      <td>-71.135765</td>\n",
       "      <td>2</td>\n",
       "      <td>1.0</td>\n",
       "      <td>1.0</td>\n",
       "      <td>...</td>\n",
       "      <td>41</td>\n",
       "      <td>98.0</td>\n",
       "      <td>10.0</td>\n",
       "      <td>9.0</td>\n",
       "      <td>10.0</td>\n",
       "      <td>10.0</td>\n",
       "      <td>9.0</td>\n",
       "      <td>10.0</td>\n",
       "      <td>1</td>\n",
       "      <td>0.47</td>\n",
       "    </tr>\n",
       "    <tr>\n",
       "      <th>3</th>\n",
       "      <td>1436513</td>\n",
       "      <td>20160906204935</td>\n",
       "      <td>6031442</td>\n",
       "      <td>1</td>\n",
       "      <td>1</td>\n",
       "      <td>42.281106</td>\n",
       "      <td>-71.121021</td>\n",
       "      <td>4</td>\n",
       "      <td>1.0</td>\n",
       "      <td>1.0</td>\n",
       "      <td>...</td>\n",
       "      <td>1</td>\n",
       "      <td>100.0</td>\n",
       "      <td>10.0</td>\n",
       "      <td>10.0</td>\n",
       "      <td>10.0</td>\n",
       "      <td>10.0</td>\n",
       "      <td>10.0</td>\n",
       "      <td>10.0</td>\n",
       "      <td>1</td>\n",
       "      <td>1.00</td>\n",
       "    </tr>\n",
       "    <tr>\n",
       "      <th>4</th>\n",
       "      <td>7651065</td>\n",
       "      <td>20160906204935</td>\n",
       "      <td>15396970</td>\n",
       "      <td>1</td>\n",
       "      <td>1</td>\n",
       "      <td>42.284512</td>\n",
       "      <td>-71.136258</td>\n",
       "      <td>2</td>\n",
       "      <td>1.5</td>\n",
       "      <td>1.0</td>\n",
       "      <td>...</td>\n",
       "      <td>29</td>\n",
       "      <td>99.0</td>\n",
       "      <td>10.0</td>\n",
       "      <td>10.0</td>\n",
       "      <td>10.0</td>\n",
       "      <td>10.0</td>\n",
       "      <td>9.0</td>\n",
       "      <td>10.0</td>\n",
       "      <td>1</td>\n",
       "      <td>2.25</td>\n",
       "    </tr>\n",
       "  </tbody>\n",
       "</table>\n",
       "<p>5 rows × 32 columns</p>\n",
       "</div>"
      ],
      "text/plain": [
       "         id       scrape_id   host_id  host_listings_count  \\\n",
       "0  12147973  20160906204935  31303940                    1   \n",
       "1   3075044  20160906204935   2572247                    1   \n",
       "2      6976  20160906204935     16701                    1   \n",
       "3   1436513  20160906204935   6031442                    1   \n",
       "4   7651065  20160906204935  15396970                    1   \n",
       "\n",
       "   host_total_listings_count   latitude  longitude  accommodates  bathrooms  \\\n",
       "0                          1  42.282619 -71.133068             4        1.5   \n",
       "1                          1  42.286241 -71.134374             2        1.0   \n",
       "2                          1  42.292438 -71.135765             2        1.0   \n",
       "3                          1  42.281106 -71.121021             4        1.0   \n",
       "4                          1  42.284512 -71.136258             2        1.5   \n",
       "\n",
       "   bedrooms  ...  number_of_reviews  review_scores_rating  \\\n",
       "0       2.0  ...                  0                   NaN   \n",
       "1       1.0  ...                 36                  94.0   \n",
       "2       1.0  ...                 41                  98.0   \n",
       "3       1.0  ...                  1                 100.0   \n",
       "4       1.0  ...                 29                  99.0   \n",
       "\n",
       "   review_scores_accuracy  review_scores_cleanliness  review_scores_checkin  \\\n",
       "0                     NaN                        NaN                    NaN   \n",
       "1                    10.0                        9.0                   10.0   \n",
       "2                    10.0                        9.0                   10.0   \n",
       "3                    10.0                       10.0                   10.0   \n",
       "4                    10.0                       10.0                   10.0   \n",
       "\n",
       "   review_scores_communication  review_scores_location  review_scores_value  \\\n",
       "0                          NaN                     NaN                  NaN   \n",
       "1                         10.0                     9.0                  9.0   \n",
       "2                         10.0                     9.0                 10.0   \n",
       "3                         10.0                    10.0                 10.0   \n",
       "4                         10.0                     9.0                 10.0   \n",
       "\n",
       "   calculated_host_listings_count  reviews_per_month  \n",
       "0                               1                NaN  \n",
       "1                               1               1.30  \n",
       "2                               1               0.47  \n",
       "3                               1               1.00  \n",
       "4                               1               2.25  \n",
       "\n",
       "[5 rows x 32 columns]"
      ]
     },
     "execution_count": 188,
     "metadata": {},
     "output_type": "execute_result"
    }
   ],
   "source": [
    "# select only the quantitive coloumns\n",
    "price_dataset = list_df.select_dtypes(include=['int64', 'float64'])\n",
    "price_dataset.head(5)"
   ]
  },
  {
   "cell_type": "code",
   "execution_count": 189,
   "metadata": {},
   "outputs": [],
   "source": [
    "# fill nan values with their columns mean values\n",
    "for x in [\"review_scores_rating\", \"review_scores_accuracy\", \"review_scores_cleanliness\", \n",
    "                \"review_scores_checkin\", \"review_scores_communication\", \"review_scores_location\", \n",
    "                \"review_scores_value\", \"reviews_per_month\"]:\n",
    "    price_dataset[x].fillna(price_dataset[x].mean(), inplace = True)"
   ]
  },
  {
   "cell_type": "code",
   "execution_count": 190,
   "metadata": {},
   "outputs": [
    {
     "data": {
      "text/html": [
       "<div>\n",
       "<style scoped>\n",
       "    .dataframe tbody tr th:only-of-type {\n",
       "        vertical-align: middle;\n",
       "    }\n",
       "\n",
       "    .dataframe tbody tr th {\n",
       "        vertical-align: top;\n",
       "    }\n",
       "\n",
       "    .dataframe thead th {\n",
       "        text-align: right;\n",
       "    }\n",
       "</style>\n",
       "<table border=\"1\" class=\"dataframe\">\n",
       "  <thead>\n",
       "    <tr style=\"text-align: right;\">\n",
       "      <th></th>\n",
       "      <th>id</th>\n",
       "      <th>scrape_id</th>\n",
       "      <th>host_id</th>\n",
       "      <th>host_listings_count</th>\n",
       "      <th>host_total_listings_count</th>\n",
       "      <th>latitude</th>\n",
       "      <th>longitude</th>\n",
       "      <th>accommodates</th>\n",
       "      <th>bathrooms</th>\n",
       "      <th>bedrooms</th>\n",
       "      <th>...</th>\n",
       "      <th>number_of_reviews</th>\n",
       "      <th>review_scores_rating</th>\n",
       "      <th>review_scores_accuracy</th>\n",
       "      <th>review_scores_cleanliness</th>\n",
       "      <th>review_scores_checkin</th>\n",
       "      <th>review_scores_communication</th>\n",
       "      <th>review_scores_location</th>\n",
       "      <th>review_scores_value</th>\n",
       "      <th>calculated_host_listings_count</th>\n",
       "      <th>reviews_per_month</th>\n",
       "    </tr>\n",
       "  </thead>\n",
       "  <tbody>\n",
       "    <tr>\n",
       "      <th>0</th>\n",
       "      <td>12147973</td>\n",
       "      <td>20160906204935</td>\n",
       "      <td>31303940</td>\n",
       "      <td>1</td>\n",
       "      <td>1</td>\n",
       "      <td>42.282619</td>\n",
       "      <td>-71.133068</td>\n",
       "      <td>4</td>\n",
       "      <td>1.5</td>\n",
       "      <td>2.0</td>\n",
       "      <td>...</td>\n",
       "      <td>0</td>\n",
       "      <td>91.954562</td>\n",
       "      <td>9.435401</td>\n",
       "      <td>9.261202</td>\n",
       "      <td>9.648195</td>\n",
       "      <td>9.652095</td>\n",
       "      <td>9.416636</td>\n",
       "      <td>9.175055</td>\n",
       "      <td>1</td>\n",
       "      <td>1.975508</td>\n",
       "    </tr>\n",
       "    <tr>\n",
       "      <th>1</th>\n",
       "      <td>3075044</td>\n",
       "      <td>20160906204935</td>\n",
       "      <td>2572247</td>\n",
       "      <td>1</td>\n",
       "      <td>1</td>\n",
       "      <td>42.286241</td>\n",
       "      <td>-71.134374</td>\n",
       "      <td>2</td>\n",
       "      <td>1.0</td>\n",
       "      <td>1.0</td>\n",
       "      <td>...</td>\n",
       "      <td>36</td>\n",
       "      <td>94.000000</td>\n",
       "      <td>10.000000</td>\n",
       "      <td>9.000000</td>\n",
       "      <td>10.000000</td>\n",
       "      <td>10.000000</td>\n",
       "      <td>9.000000</td>\n",
       "      <td>9.000000</td>\n",
       "      <td>1</td>\n",
       "      <td>1.300000</td>\n",
       "    </tr>\n",
       "    <tr>\n",
       "      <th>2</th>\n",
       "      <td>6976</td>\n",
       "      <td>20160906204935</td>\n",
       "      <td>16701</td>\n",
       "      <td>1</td>\n",
       "      <td>1</td>\n",
       "      <td>42.292438</td>\n",
       "      <td>-71.135765</td>\n",
       "      <td>2</td>\n",
       "      <td>1.0</td>\n",
       "      <td>1.0</td>\n",
       "      <td>...</td>\n",
       "      <td>41</td>\n",
       "      <td>98.000000</td>\n",
       "      <td>10.000000</td>\n",
       "      <td>9.000000</td>\n",
       "      <td>10.000000</td>\n",
       "      <td>10.000000</td>\n",
       "      <td>9.000000</td>\n",
       "      <td>10.000000</td>\n",
       "      <td>1</td>\n",
       "      <td>0.470000</td>\n",
       "    </tr>\n",
       "    <tr>\n",
       "      <th>3</th>\n",
       "      <td>1436513</td>\n",
       "      <td>20160906204935</td>\n",
       "      <td>6031442</td>\n",
       "      <td>1</td>\n",
       "      <td>1</td>\n",
       "      <td>42.281106</td>\n",
       "      <td>-71.121021</td>\n",
       "      <td>4</td>\n",
       "      <td>1.0</td>\n",
       "      <td>1.0</td>\n",
       "      <td>...</td>\n",
       "      <td>1</td>\n",
       "      <td>100.000000</td>\n",
       "      <td>10.000000</td>\n",
       "      <td>10.000000</td>\n",
       "      <td>10.000000</td>\n",
       "      <td>10.000000</td>\n",
       "      <td>10.000000</td>\n",
       "      <td>10.000000</td>\n",
       "      <td>1</td>\n",
       "      <td>1.000000</td>\n",
       "    </tr>\n",
       "    <tr>\n",
       "      <th>4</th>\n",
       "      <td>7651065</td>\n",
       "      <td>20160906204935</td>\n",
       "      <td>15396970</td>\n",
       "      <td>1</td>\n",
       "      <td>1</td>\n",
       "      <td>42.284512</td>\n",
       "      <td>-71.136258</td>\n",
       "      <td>2</td>\n",
       "      <td>1.5</td>\n",
       "      <td>1.0</td>\n",
       "      <td>...</td>\n",
       "      <td>29</td>\n",
       "      <td>99.000000</td>\n",
       "      <td>10.000000</td>\n",
       "      <td>10.000000</td>\n",
       "      <td>10.000000</td>\n",
       "      <td>10.000000</td>\n",
       "      <td>9.000000</td>\n",
       "      <td>10.000000</td>\n",
       "      <td>1</td>\n",
       "      <td>2.250000</td>\n",
       "    </tr>\n",
       "  </tbody>\n",
       "</table>\n",
       "<p>5 rows × 32 columns</p>\n",
       "</div>"
      ],
      "text/plain": [
       "         id       scrape_id   host_id  host_listings_count  \\\n",
       "0  12147973  20160906204935  31303940                    1   \n",
       "1   3075044  20160906204935   2572247                    1   \n",
       "2      6976  20160906204935     16701                    1   \n",
       "3   1436513  20160906204935   6031442                    1   \n",
       "4   7651065  20160906204935  15396970                    1   \n",
       "\n",
       "   host_total_listings_count   latitude  longitude  accommodates  bathrooms  \\\n",
       "0                          1  42.282619 -71.133068             4        1.5   \n",
       "1                          1  42.286241 -71.134374             2        1.0   \n",
       "2                          1  42.292438 -71.135765             2        1.0   \n",
       "3                          1  42.281106 -71.121021             4        1.0   \n",
       "4                          1  42.284512 -71.136258             2        1.5   \n",
       "\n",
       "   bedrooms  ...  number_of_reviews  review_scores_rating  \\\n",
       "0       2.0  ...                  0             91.954562   \n",
       "1       1.0  ...                 36             94.000000   \n",
       "2       1.0  ...                 41             98.000000   \n",
       "3       1.0  ...                  1            100.000000   \n",
       "4       1.0  ...                 29             99.000000   \n",
       "\n",
       "   review_scores_accuracy  review_scores_cleanliness  review_scores_checkin  \\\n",
       "0                9.435401                   9.261202               9.648195   \n",
       "1               10.000000                   9.000000              10.000000   \n",
       "2               10.000000                   9.000000              10.000000   \n",
       "3               10.000000                  10.000000              10.000000   \n",
       "4               10.000000                  10.000000              10.000000   \n",
       "\n",
       "   review_scores_communication  review_scores_location  review_scores_value  \\\n",
       "0                     9.652095                9.416636             9.175055   \n",
       "1                    10.000000                9.000000             9.000000   \n",
       "2                    10.000000                9.000000            10.000000   \n",
       "3                    10.000000               10.000000            10.000000   \n",
       "4                    10.000000                9.000000            10.000000   \n",
       "\n",
       "   calculated_host_listings_count  reviews_per_month  \n",
       "0                               1           1.975508  \n",
       "1                               1           1.300000  \n",
       "2                               1           0.470000  \n",
       "3                               1           1.000000  \n",
       "4                               1           2.250000  \n",
       "\n",
       "[5 rows x 32 columns]"
      ]
     },
     "execution_count": 190,
     "metadata": {},
     "output_type": "execute_result"
    }
   ],
   "source": [
    "price_dataset.head(5)"
   ]
  },
  {
   "cell_type": "code",
   "execution_count": 191,
   "metadata": {},
   "outputs": [
    {
     "name": "stdout",
     "output_type": "stream",
     "text": [
      "<class 'pandas.core.frame.DataFrame'>\n",
      "Int64Index: 3557 entries, 0 to 3584\n",
      "Data columns (total 59 columns):\n",
      " #   Column                            Non-Null Count  Dtype \n",
      "---  ------                            --------------  ----- \n",
      " 0   listing_url                       3557 non-null   object\n",
      " 1   last_scraped                      3557 non-null   object\n",
      " 2   name                              3557 non-null   object\n",
      " 3   summary                           3431 non-null   object\n",
      " 4   space                             2503 non-null   object\n",
      " 5   description                       3557 non-null   object\n",
      " 6   experiences_offered               3557 non-null   object\n",
      " 7   neighborhood_overview             2162 non-null   object\n",
      " 8   notes                             1604 non-null   object\n",
      " 9   transit                           2287 non-null   object\n",
      " 10  access                            2089 non-null   object\n",
      " 11  interaction                       2024 non-null   object\n",
      " 12  house_rules                       2377 non-null   object\n",
      " 13  thumbnail_url                     2965 non-null   object\n",
      " 14  medium_url                        2965 non-null   object\n",
      " 15  picture_url                       3557 non-null   object\n",
      " 16  xl_picture_url                    2965 non-null   object\n",
      " 17  host_url                          3557 non-null   object\n",
      " 18  host_name                         3557 non-null   object\n",
      " 19  host_since                        3557 non-null   object\n",
      " 20  host_location                     3546 non-null   object\n",
      " 21  host_about                        2255 non-null   object\n",
      " 22  host_response_time                3088 non-null   object\n",
      " 23  host_response_rate                3088 non-null   object\n",
      " 24  host_acceptance_rate              3088 non-null   object\n",
      " 25  host_is_superhost                 3557 non-null   object\n",
      " 26  host_thumbnail_url                3557 non-null   object\n",
      " 27  host_picture_url                  3557 non-null   object\n",
      " 28  host_neighbourhood                3223 non-null   object\n",
      " 29  host_verifications                3557 non-null   object\n",
      " 30  host_has_profile_pic              3557 non-null   object\n",
      " 31  host_identity_verified            3557 non-null   object\n",
      " 32  street                            3557 non-null   object\n",
      " 33  neighbourhood                     3020 non-null   object\n",
      " 34  neighbourhood_cleansed            3557 non-null   object\n",
      " 35  city                              3555 non-null   object\n",
      " 36  state                             3557 non-null   object\n",
      " 37  zipcode                           3521 non-null   object\n",
      " 38  market                            3543 non-null   object\n",
      " 39  smart_location                    3557 non-null   object\n",
      " 40  country_code                      3557 non-null   object\n",
      " 41  country                           3557 non-null   object\n",
      " 42  is_location_exact                 3557 non-null   object\n",
      " 43  property_type                     3554 non-null   object\n",
      " 44  room_type                         3557 non-null   object\n",
      " 45  bed_type                          3557 non-null   object\n",
      " 46  amenities                         3557 non-null   object\n",
      " 47  weekly_price                      888 non-null    object\n",
      " 48  monthly_price                     874 non-null    object\n",
      " 49  extra_people                      3557 non-null   object\n",
      " 50  calendar_updated                  3557 non-null   object\n",
      " 51  calendar_last_scraped             3557 non-null   object\n",
      " 52  first_review                      2807 non-null   object\n",
      " 53  last_review                       2807 non-null   object\n",
      " 54  requires_license                  3557 non-null   object\n",
      " 55  instant_bookable                  3557 non-null   object\n",
      " 56  cancellation_policy               3557 non-null   object\n",
      " 57  require_guest_profile_picture     3557 non-null   object\n",
      " 58  require_guest_phone_verification  3557 non-null   object\n",
      "dtypes: object(59)\n",
      "memory usage: 1.6+ MB\n"
     ]
    }
   ],
   "source": [
    "cat_df = list_df.select_dtypes(include=['object'])\n",
    "cat_df.info()"
   ]
  },
  {
   "cell_type": "code",
   "execution_count": 192,
   "metadata": {},
   "outputs": [
    {
     "data": {
      "text/html": [
       "<div>\n",
       "<style scoped>\n",
       "    .dataframe tbody tr th:only-of-type {\n",
       "        vertical-align: middle;\n",
       "    }\n",
       "\n",
       "    .dataframe tbody tr th {\n",
       "        vertical-align: top;\n",
       "    }\n",
       "\n",
       "    .dataframe thead th {\n",
       "        text-align: right;\n",
       "    }\n",
       "</style>\n",
       "<table border=\"1\" class=\"dataframe\">\n",
       "  <thead>\n",
       "    <tr style=\"text-align: right;\">\n",
       "      <th></th>\n",
       "      <th>listing_url</th>\n",
       "      <th>last_scraped</th>\n",
       "      <th>name</th>\n",
       "      <th>summary</th>\n",
       "      <th>space</th>\n",
       "      <th>description</th>\n",
       "      <th>experiences_offered</th>\n",
       "      <th>neighborhood_overview</th>\n",
       "      <th>notes</th>\n",
       "      <th>transit</th>\n",
       "      <th>...</th>\n",
       "      <th>extra_people</th>\n",
       "      <th>calendar_updated</th>\n",
       "      <th>calendar_last_scraped</th>\n",
       "      <th>first_review</th>\n",
       "      <th>last_review</th>\n",
       "      <th>requires_license</th>\n",
       "      <th>instant_bookable</th>\n",
       "      <th>cancellation_policy</th>\n",
       "      <th>require_guest_profile_picture</th>\n",
       "      <th>require_guest_phone_verification</th>\n",
       "    </tr>\n",
       "  </thead>\n",
       "  <tbody>\n",
       "    <tr>\n",
       "      <th>0</th>\n",
       "      <td>https://www.airbnb.com/rooms/12147973</td>\n",
       "      <td>2016-09-07</td>\n",
       "      <td>Sunny Bungalow in the City</td>\n",
       "      <td>Cozy, sunny, family home.  Master bedroom high...</td>\n",
       "      <td>The house has an open and cozy feel at the sam...</td>\n",
       "      <td>Cozy, sunny, family home.  Master bedroom high...</td>\n",
       "      <td>none</td>\n",
       "      <td>Roslindale is quiet, convenient and friendly. ...</td>\n",
       "      <td>NaN</td>\n",
       "      <td>The bus stop is 2 blocks away, and frequent. B...</td>\n",
       "      <td>...</td>\n",
       "      <td>$0.00</td>\n",
       "      <td>2 weeks ago</td>\n",
       "      <td>2016-09-06</td>\n",
       "      <td>NaN</td>\n",
       "      <td>NaN</td>\n",
       "      <td>f</td>\n",
       "      <td>f</td>\n",
       "      <td>moderate</td>\n",
       "      <td>f</td>\n",
       "      <td>f</td>\n",
       "    </tr>\n",
       "    <tr>\n",
       "      <th>1</th>\n",
       "      <td>https://www.airbnb.com/rooms/3075044</td>\n",
       "      <td>2016-09-07</td>\n",
       "      <td>Charming room in pet friendly apt</td>\n",
       "      <td>Charming and quiet room in a second floor 1910...</td>\n",
       "      <td>Small but cozy and quite room with a full size...</td>\n",
       "      <td>Charming and quiet room in a second floor 1910...</td>\n",
       "      <td>none</td>\n",
       "      <td>The room is in Roslindale, a diverse and prima...</td>\n",
       "      <td>If you don't have a US cell phone, you can tex...</td>\n",
       "      <td>Plenty of safe street parking. Bus stops a few...</td>\n",
       "      <td>...</td>\n",
       "      <td>$0.00</td>\n",
       "      <td>a week ago</td>\n",
       "      <td>2016-09-06</td>\n",
       "      <td>2014-06-01</td>\n",
       "      <td>2016-08-13</td>\n",
       "      <td>f</td>\n",
       "      <td>t</td>\n",
       "      <td>moderate</td>\n",
       "      <td>f</td>\n",
       "      <td>f</td>\n",
       "    </tr>\n",
       "    <tr>\n",
       "      <th>2</th>\n",
       "      <td>https://www.airbnb.com/rooms/6976</td>\n",
       "      <td>2016-09-07</td>\n",
       "      <td>Mexican Folk Art Haven in Boston</td>\n",
       "      <td>Come stay with a friendly, middle-aged guy in ...</td>\n",
       "      <td>Come stay with a friendly, middle-aged guy in ...</td>\n",
       "      <td>Come stay with a friendly, middle-aged guy in ...</td>\n",
       "      <td>none</td>\n",
       "      <td>The LOCATION: Roslindale is a safe and diverse...</td>\n",
       "      <td>I am in a scenic part of Boston with a couple ...</td>\n",
       "      <td>PUBLIC TRANSPORTATION: From the house, quick p...</td>\n",
       "      <td>...</td>\n",
       "      <td>$20.00</td>\n",
       "      <td>5 days ago</td>\n",
       "      <td>2016-09-06</td>\n",
       "      <td>2009-07-19</td>\n",
       "      <td>2016-08-05</td>\n",
       "      <td>f</td>\n",
       "      <td>f</td>\n",
       "      <td>moderate</td>\n",
       "      <td>t</td>\n",
       "      <td>f</td>\n",
       "    </tr>\n",
       "    <tr>\n",
       "      <th>3</th>\n",
       "      <td>https://www.airbnb.com/rooms/1436513</td>\n",
       "      <td>2016-09-07</td>\n",
       "      <td>Spacious Sunny Bedroom Suite in Historic Home</td>\n",
       "      <td>Come experience the comforts of home away from...</td>\n",
       "      <td>Most places you find in Boston are small howev...</td>\n",
       "      <td>Come experience the comforts of home away from...</td>\n",
       "      <td>none</td>\n",
       "      <td>Roslindale is a lovely little neighborhood loc...</td>\n",
       "      <td>Please be mindful of the property as it is old...</td>\n",
       "      <td>There are buses that stop right in front of th...</td>\n",
       "      <td>...</td>\n",
       "      <td>$25.00</td>\n",
       "      <td>a week ago</td>\n",
       "      <td>2016-09-06</td>\n",
       "      <td>2016-08-28</td>\n",
       "      <td>2016-08-28</td>\n",
       "      <td>f</td>\n",
       "      <td>f</td>\n",
       "      <td>moderate</td>\n",
       "      <td>f</td>\n",
       "      <td>f</td>\n",
       "    </tr>\n",
       "    <tr>\n",
       "      <th>4</th>\n",
       "      <td>https://www.airbnb.com/rooms/7651065</td>\n",
       "      <td>2016-09-07</td>\n",
       "      <td>Come Home to Boston</td>\n",
       "      <td>My comfy, clean and relaxing home is one block...</td>\n",
       "      <td>Clean, attractive, private room, one block fro...</td>\n",
       "      <td>My comfy, clean and relaxing home is one block...</td>\n",
       "      <td>none</td>\n",
       "      <td>I love the proximity to downtown, the neighbor...</td>\n",
       "      <td>I have one roommate who lives on the lower lev...</td>\n",
       "      <td>From Logan Airport  and South Station you have...</td>\n",
       "      <td>...</td>\n",
       "      <td>$0.00</td>\n",
       "      <td>2 weeks ago</td>\n",
       "      <td>2016-09-06</td>\n",
       "      <td>2015-08-18</td>\n",
       "      <td>2016-09-01</td>\n",
       "      <td>f</td>\n",
       "      <td>f</td>\n",
       "      <td>flexible</td>\n",
       "      <td>f</td>\n",
       "      <td>f</td>\n",
       "    </tr>\n",
       "  </tbody>\n",
       "</table>\n",
       "<p>5 rows × 59 columns</p>\n",
       "</div>"
      ],
      "text/plain": [
       "                             listing_url last_scraped  \\\n",
       "0  https://www.airbnb.com/rooms/12147973   2016-09-07   \n",
       "1   https://www.airbnb.com/rooms/3075044   2016-09-07   \n",
       "2      https://www.airbnb.com/rooms/6976   2016-09-07   \n",
       "3   https://www.airbnb.com/rooms/1436513   2016-09-07   \n",
       "4   https://www.airbnb.com/rooms/7651065   2016-09-07   \n",
       "\n",
       "                                            name  \\\n",
       "0                     Sunny Bungalow in the City   \n",
       "1              Charming room in pet friendly apt   \n",
       "2               Mexican Folk Art Haven in Boston   \n",
       "3  Spacious Sunny Bedroom Suite in Historic Home   \n",
       "4                            Come Home to Boston   \n",
       "\n",
       "                                             summary  \\\n",
       "0  Cozy, sunny, family home.  Master bedroom high...   \n",
       "1  Charming and quiet room in a second floor 1910...   \n",
       "2  Come stay with a friendly, middle-aged guy in ...   \n",
       "3  Come experience the comforts of home away from...   \n",
       "4  My comfy, clean and relaxing home is one block...   \n",
       "\n",
       "                                               space  \\\n",
       "0  The house has an open and cozy feel at the sam...   \n",
       "1  Small but cozy and quite room with a full size...   \n",
       "2  Come stay with a friendly, middle-aged guy in ...   \n",
       "3  Most places you find in Boston are small howev...   \n",
       "4  Clean, attractive, private room, one block fro...   \n",
       "\n",
       "                                         description experiences_offered  \\\n",
       "0  Cozy, sunny, family home.  Master bedroom high...                none   \n",
       "1  Charming and quiet room in a second floor 1910...                none   \n",
       "2  Come stay with a friendly, middle-aged guy in ...                none   \n",
       "3  Come experience the comforts of home away from...                none   \n",
       "4  My comfy, clean and relaxing home is one block...                none   \n",
       "\n",
       "                               neighborhood_overview  \\\n",
       "0  Roslindale is quiet, convenient and friendly. ...   \n",
       "1  The room is in Roslindale, a diverse and prima...   \n",
       "2  The LOCATION: Roslindale is a safe and diverse...   \n",
       "3  Roslindale is a lovely little neighborhood loc...   \n",
       "4  I love the proximity to downtown, the neighbor...   \n",
       "\n",
       "                                               notes  \\\n",
       "0                                                NaN   \n",
       "1  If you don't have a US cell phone, you can tex...   \n",
       "2  I am in a scenic part of Boston with a couple ...   \n",
       "3  Please be mindful of the property as it is old...   \n",
       "4  I have one roommate who lives on the lower lev...   \n",
       "\n",
       "                                             transit  ... extra_people  \\\n",
       "0  The bus stop is 2 blocks away, and frequent. B...  ...        $0.00   \n",
       "1  Plenty of safe street parking. Bus stops a few...  ...        $0.00   \n",
       "2  PUBLIC TRANSPORTATION: From the house, quick p...  ...       $20.00   \n",
       "3  There are buses that stop right in front of th...  ...       $25.00   \n",
       "4  From Logan Airport  and South Station you have...  ...        $0.00   \n",
       "\n",
       "  calendar_updated calendar_last_scraped first_review last_review  \\\n",
       "0      2 weeks ago            2016-09-06          NaN         NaN   \n",
       "1       a week ago            2016-09-06   2014-06-01  2016-08-13   \n",
       "2       5 days ago            2016-09-06   2009-07-19  2016-08-05   \n",
       "3       a week ago            2016-09-06   2016-08-28  2016-08-28   \n",
       "4      2 weeks ago            2016-09-06   2015-08-18  2016-09-01   \n",
       "\n",
       "  requires_license instant_bookable cancellation_policy  \\\n",
       "0                f                f            moderate   \n",
       "1                f                t            moderate   \n",
       "2                f                f            moderate   \n",
       "3                f                f            moderate   \n",
       "4                f                f            flexible   \n",
       "\n",
       "  require_guest_profile_picture require_guest_phone_verification  \n",
       "0                             f                                f  \n",
       "1                             f                                f  \n",
       "2                             t                                f  \n",
       "3                             f                                f  \n",
       "4                             f                                f  \n",
       "\n",
       "[5 rows x 59 columns]"
      ]
     },
     "execution_count": 192,
     "metadata": {},
     "output_type": "execute_result"
    }
   ],
   "source": [
    "cat_df.head(5)"
   ]
  },
  {
   "cell_type": "code",
   "execution_count": 193,
   "metadata": {},
   "outputs": [],
   "source": [
    "#add categorical columns to price dataset\n",
    "price_dataset[['superhost', 'room_type', 'neighbourhood_cleansed', 'cancellation_policy', 'property_type', 'host_response_time']] = list_df[['host_is_superhost', \n",
    "                                                           'room_type',  'neighbourhood_cleansed',\n",
    "                                                           'cancellation_policy', 'property_type', 'host_response_time']]"
   ]
  },
  {
   "cell_type": "code",
   "execution_count": 194,
   "metadata": {},
   "outputs": [
    {
     "name": "stdout",
     "output_type": "stream",
     "text": [
      "<class 'pandas.core.frame.DataFrame'>\n",
      "Int64Index: 3557 entries, 0 to 3584\n",
      "Data columns (total 37 columns):\n",
      " #   Column                          Non-Null Count  Dtype  \n",
      "---  ------                          --------------  -----  \n",
      " 0   id                              3557 non-null   int64  \n",
      " 1   scrape_id                       3557 non-null   int64  \n",
      " 2   host_id                         3557 non-null   int64  \n",
      " 3   host_listings_count             3557 non-null   int64  \n",
      " 4   host_total_listings_count       3557 non-null   int64  \n",
      " 5   latitude                        3557 non-null   float64\n",
      " 6   longitude                       3557 non-null   float64\n",
      " 7   accommodates                    3557 non-null   int64  \n",
      " 8   bathrooms                       3557 non-null   float64\n",
      " 9   bedrooms                        3557 non-null   float64\n",
      " 10  beds                            3557 non-null   float64\n",
      " 11  price                           3557 non-null   float64\n",
      " 12  security_deposit                3557 non-null   float64\n",
      " 13  cleaning_fee                    3557 non-null   float64\n",
      " 14  guests_included                 3557 non-null   int64  \n",
      " 15  minimum_nights                  3557 non-null   int64  \n",
      " 16  maximum_nights                  3557 non-null   int64  \n",
      " 17  availability_30                 3557 non-null   int64  \n",
      " 18  availability_60                 3557 non-null   int64  \n",
      " 19  availability_90                 3557 non-null   int64  \n",
      " 20  availability_365                3557 non-null   int64  \n",
      " 21  number_of_reviews               3557 non-null   int64  \n",
      " 22  review_scores_rating            3557 non-null   float64\n",
      " 23  review_scores_accuracy          3557 non-null   float64\n",
      " 24  review_scores_cleanliness       3557 non-null   float64\n",
      " 25  review_scores_checkin           3557 non-null   float64\n",
      " 26  review_scores_communication     3557 non-null   float64\n",
      " 27  review_scores_location          3557 non-null   float64\n",
      " 28  review_scores_value             3557 non-null   float64\n",
      " 29  calculated_host_listings_count  3557 non-null   int64  \n",
      " 30  reviews_per_month               3557 non-null   float64\n",
      " 31  superhost                       3557 non-null   object \n",
      " 32  room_type                       3557 non-null   object \n",
      " 33  neighbourhood_cleansed          3557 non-null   object \n",
      " 34  cancellation_policy             3557 non-null   object \n",
      " 35  property_type                   3554 non-null   object \n",
      " 36  host_response_time              3088 non-null   object \n",
      "dtypes: float64(16), int64(15), object(6)\n",
      "memory usage: 1.0+ MB\n"
     ]
    }
   ],
   "source": [
    "price_dataset.drop(labels = [\"square_feet\"], axis = 1, inplace = True)\n",
    "price_dataset.info()"
   ]
  },
  {
   "cell_type": "code",
   "execution_count": 195,
   "metadata": {},
   "outputs": [],
   "source": [
    "# Convert type-realted values to numberical values\n",
    "cleanup_nums = {\"superhost\":     {\"t\": 1, \"f\": 2},\n",
    "                \"room_type\": {\"Entire home/apt\": 1, \"Private room\": 2, \"Shared room\": 3},\n",
    "               \"cancellation_policy\": {\"moderate\": 1, \"flexible\": 2, \"strict\": 3, \"super_strict_30\": 4}}"
   ]
  },
  {
   "cell_type": "code",
   "execution_count": 196,
   "metadata": {},
   "outputs": [],
   "source": [
    "price_dataset_copy = price_dataset\n",
    "price_dataset_copy = price_dataset_copy.replace(cleanup_nums)\n",
    "dummuy_price_dataset_copy = pd.get_dummies(price_dataset_copy)"
   ]
  },
  {
   "cell_type": "code",
   "execution_count": 197,
   "metadata": {},
   "outputs": [
    {
     "data": {
      "text/html": [
       "<div>\n",
       "<style scoped>\n",
       "    .dataframe tbody tr th:only-of-type {\n",
       "        vertical-align: middle;\n",
       "    }\n",
       "\n",
       "    .dataframe tbody tr th {\n",
       "        vertical-align: top;\n",
       "    }\n",
       "\n",
       "    .dataframe thead th {\n",
       "        text-align: right;\n",
       "    }\n",
       "</style>\n",
       "<table border=\"1\" class=\"dataframe\">\n",
       "  <thead>\n",
       "    <tr style=\"text-align: right;\">\n",
       "      <th></th>\n",
       "      <th>id</th>\n",
       "      <th>scrape_id</th>\n",
       "      <th>host_id</th>\n",
       "      <th>host_listings_count</th>\n",
       "      <th>host_total_listings_count</th>\n",
       "      <th>latitude</th>\n",
       "      <th>longitude</th>\n",
       "      <th>accommodates</th>\n",
       "      <th>bathrooms</th>\n",
       "      <th>bedrooms</th>\n",
       "      <th>...</th>\n",
       "      <th>property_type_Guesthouse</th>\n",
       "      <th>property_type_House</th>\n",
       "      <th>property_type_Loft</th>\n",
       "      <th>property_type_Other</th>\n",
       "      <th>property_type_Townhouse</th>\n",
       "      <th>property_type_Villa</th>\n",
       "      <th>host_response_time_a few days or more</th>\n",
       "      <th>host_response_time_within a day</th>\n",
       "      <th>host_response_time_within a few hours</th>\n",
       "      <th>host_response_time_within an hour</th>\n",
       "    </tr>\n",
       "  </thead>\n",
       "  <tbody>\n",
       "    <tr>\n",
       "      <th>0</th>\n",
       "      <td>12147973</td>\n",
       "      <td>20160906204935</td>\n",
       "      <td>31303940</td>\n",
       "      <td>1</td>\n",
       "      <td>1</td>\n",
       "      <td>42.282619</td>\n",
       "      <td>-71.133068</td>\n",
       "      <td>4</td>\n",
       "      <td>1.5</td>\n",
       "      <td>2.0</td>\n",
       "      <td>...</td>\n",
       "      <td>0</td>\n",
       "      <td>1</td>\n",
       "      <td>0</td>\n",
       "      <td>0</td>\n",
       "      <td>0</td>\n",
       "      <td>0</td>\n",
       "      <td>0</td>\n",
       "      <td>0</td>\n",
       "      <td>0</td>\n",
       "      <td>0</td>\n",
       "    </tr>\n",
       "    <tr>\n",
       "      <th>1</th>\n",
       "      <td>3075044</td>\n",
       "      <td>20160906204935</td>\n",
       "      <td>2572247</td>\n",
       "      <td>1</td>\n",
       "      <td>1</td>\n",
       "      <td>42.286241</td>\n",
       "      <td>-71.134374</td>\n",
       "      <td>2</td>\n",
       "      <td>1.0</td>\n",
       "      <td>1.0</td>\n",
       "      <td>...</td>\n",
       "      <td>0</td>\n",
       "      <td>0</td>\n",
       "      <td>0</td>\n",
       "      <td>0</td>\n",
       "      <td>0</td>\n",
       "      <td>0</td>\n",
       "      <td>0</td>\n",
       "      <td>0</td>\n",
       "      <td>0</td>\n",
       "      <td>1</td>\n",
       "    </tr>\n",
       "    <tr>\n",
       "      <th>2</th>\n",
       "      <td>6976</td>\n",
       "      <td>20160906204935</td>\n",
       "      <td>16701</td>\n",
       "      <td>1</td>\n",
       "      <td>1</td>\n",
       "      <td>42.292438</td>\n",
       "      <td>-71.135765</td>\n",
       "      <td>2</td>\n",
       "      <td>1.0</td>\n",
       "      <td>1.0</td>\n",
       "      <td>...</td>\n",
       "      <td>0</td>\n",
       "      <td>0</td>\n",
       "      <td>0</td>\n",
       "      <td>0</td>\n",
       "      <td>0</td>\n",
       "      <td>0</td>\n",
       "      <td>0</td>\n",
       "      <td>0</td>\n",
       "      <td>1</td>\n",
       "      <td>0</td>\n",
       "    </tr>\n",
       "    <tr>\n",
       "      <th>3</th>\n",
       "      <td>1436513</td>\n",
       "      <td>20160906204935</td>\n",
       "      <td>6031442</td>\n",
       "      <td>1</td>\n",
       "      <td>1</td>\n",
       "      <td>42.281106</td>\n",
       "      <td>-71.121021</td>\n",
       "      <td>4</td>\n",
       "      <td>1.0</td>\n",
       "      <td>1.0</td>\n",
       "      <td>...</td>\n",
       "      <td>0</td>\n",
       "      <td>1</td>\n",
       "      <td>0</td>\n",
       "      <td>0</td>\n",
       "      <td>0</td>\n",
       "      <td>0</td>\n",
       "      <td>0</td>\n",
       "      <td>0</td>\n",
       "      <td>1</td>\n",
       "      <td>0</td>\n",
       "    </tr>\n",
       "    <tr>\n",
       "      <th>4</th>\n",
       "      <td>7651065</td>\n",
       "      <td>20160906204935</td>\n",
       "      <td>15396970</td>\n",
       "      <td>1</td>\n",
       "      <td>1</td>\n",
       "      <td>42.284512</td>\n",
       "      <td>-71.136258</td>\n",
       "      <td>2</td>\n",
       "      <td>1.5</td>\n",
       "      <td>1.0</td>\n",
       "      <td>...</td>\n",
       "      <td>0</td>\n",
       "      <td>1</td>\n",
       "      <td>0</td>\n",
       "      <td>0</td>\n",
       "      <td>0</td>\n",
       "      <td>0</td>\n",
       "      <td>0</td>\n",
       "      <td>0</td>\n",
       "      <td>0</td>\n",
       "      <td>1</td>\n",
       "    </tr>\n",
       "  </tbody>\n",
       "</table>\n",
       "<p>5 rows × 76 columns</p>\n",
       "</div>"
      ],
      "text/plain": [
       "         id       scrape_id   host_id  host_listings_count  \\\n",
       "0  12147973  20160906204935  31303940                    1   \n",
       "1   3075044  20160906204935   2572247                    1   \n",
       "2      6976  20160906204935     16701                    1   \n",
       "3   1436513  20160906204935   6031442                    1   \n",
       "4   7651065  20160906204935  15396970                    1   \n",
       "\n",
       "   host_total_listings_count   latitude  longitude  accommodates  bathrooms  \\\n",
       "0                          1  42.282619 -71.133068             4        1.5   \n",
       "1                          1  42.286241 -71.134374             2        1.0   \n",
       "2                          1  42.292438 -71.135765             2        1.0   \n",
       "3                          1  42.281106 -71.121021             4        1.0   \n",
       "4                          1  42.284512 -71.136258             2        1.5   \n",
       "\n",
       "   bedrooms  ...  property_type_Guesthouse  property_type_House  \\\n",
       "0       2.0  ...                         0                    1   \n",
       "1       1.0  ...                         0                    0   \n",
       "2       1.0  ...                         0                    0   \n",
       "3       1.0  ...                         0                    1   \n",
       "4       1.0  ...                         0                    1   \n",
       "\n",
       "   property_type_Loft  property_type_Other  property_type_Townhouse  \\\n",
       "0                   0                    0                        0   \n",
       "1                   0                    0                        0   \n",
       "2                   0                    0                        0   \n",
       "3                   0                    0                        0   \n",
       "4                   0                    0                        0   \n",
       "\n",
       "   property_type_Villa  host_response_time_a few days or more  \\\n",
       "0                    0                                      0   \n",
       "1                    0                                      0   \n",
       "2                    0                                      0   \n",
       "3                    0                                      0   \n",
       "4                    0                                      0   \n",
       "\n",
       "   host_response_time_within a day  host_response_time_within a few hours  \\\n",
       "0                                0                                      0   \n",
       "1                                0                                      0   \n",
       "2                                0                                      1   \n",
       "3                                0                                      1   \n",
       "4                                0                                      0   \n",
       "\n",
       "   host_response_time_within an hour  \n",
       "0                                  0  \n",
       "1                                  1  \n",
       "2                                  0  \n",
       "3                                  0  \n",
       "4                                  1  \n",
       "\n",
       "[5 rows x 76 columns]"
      ]
     },
     "execution_count": 197,
     "metadata": {},
     "output_type": "execute_result"
    }
   ],
   "source": [
    "dummuy_price_dataset_copy.head(5)"
   ]
  },
  {
   "cell_type": "code",
   "execution_count": 198,
   "metadata": {},
   "outputs": [
    {
     "data": {
      "text/html": [
       "<div>\n",
       "<style scoped>\n",
       "    .dataframe tbody tr th:only-of-type {\n",
       "        vertical-align: middle;\n",
       "    }\n",
       "\n",
       "    .dataframe tbody tr th {\n",
       "        vertical-align: top;\n",
       "    }\n",
       "\n",
       "    .dataframe thead th {\n",
       "        text-align: right;\n",
       "    }\n",
       "</style>\n",
       "<table border=\"1\" class=\"dataframe\">\n",
       "  <thead>\n",
       "    <tr style=\"text-align: right;\">\n",
       "      <th></th>\n",
       "      <th>neighbourhood_cleansed</th>\n",
       "      <th>property_type</th>\n",
       "      <th>host_response_time</th>\n",
       "    </tr>\n",
       "  </thead>\n",
       "  <tbody>\n",
       "    <tr>\n",
       "      <th>0</th>\n",
       "      <td>Roslindale</td>\n",
       "      <td>House</td>\n",
       "      <td>NaN</td>\n",
       "    </tr>\n",
       "    <tr>\n",
       "      <th>1</th>\n",
       "      <td>Roslindale</td>\n",
       "      <td>Apartment</td>\n",
       "      <td>within an hour</td>\n",
       "    </tr>\n",
       "    <tr>\n",
       "      <th>2</th>\n",
       "      <td>Roslindale</td>\n",
       "      <td>Apartment</td>\n",
       "      <td>within a few hours</td>\n",
       "    </tr>\n",
       "    <tr>\n",
       "      <th>3</th>\n",
       "      <td>Roslindale</td>\n",
       "      <td>House</td>\n",
       "      <td>within a few hours</td>\n",
       "    </tr>\n",
       "    <tr>\n",
       "      <th>4</th>\n",
       "      <td>Roslindale</td>\n",
       "      <td>House</td>\n",
       "      <td>within an hour</td>\n",
       "    </tr>\n",
       "    <tr>\n",
       "      <th>...</th>\n",
       "      <td>...</td>\n",
       "      <td>...</td>\n",
       "      <td>...</td>\n",
       "    </tr>\n",
       "    <tr>\n",
       "      <th>3580</th>\n",
       "      <td>Charlestown</td>\n",
       "      <td>Apartment</td>\n",
       "      <td>within an hour</td>\n",
       "    </tr>\n",
       "    <tr>\n",
       "      <th>3581</th>\n",
       "      <td>Allston</td>\n",
       "      <td>Apartment</td>\n",
       "      <td>a few days or more</td>\n",
       "    </tr>\n",
       "    <tr>\n",
       "      <th>3582</th>\n",
       "      <td>Charlestown</td>\n",
       "      <td>Apartment</td>\n",
       "      <td>within a day</td>\n",
       "    </tr>\n",
       "    <tr>\n",
       "      <th>3583</th>\n",
       "      <td>Charlestown</td>\n",
       "      <td>Apartment</td>\n",
       "      <td>within an hour</td>\n",
       "    </tr>\n",
       "    <tr>\n",
       "      <th>3584</th>\n",
       "      <td>Charlestown</td>\n",
       "      <td>Apartment</td>\n",
       "      <td>within an hour</td>\n",
       "    </tr>\n",
       "  </tbody>\n",
       "</table>\n",
       "<p>3557 rows × 3 columns</p>\n",
       "</div>"
      ],
      "text/plain": [
       "     neighbourhood_cleansed property_type  host_response_time\n",
       "0                Roslindale         House                 NaN\n",
       "1                Roslindale     Apartment      within an hour\n",
       "2                Roslindale     Apartment  within a few hours\n",
       "3                Roslindale         House  within a few hours\n",
       "4                Roslindale         House      within an hour\n",
       "...                     ...           ...                 ...\n",
       "3580            Charlestown     Apartment      within an hour\n",
       "3581                Allston     Apartment  a few days or more\n",
       "3582            Charlestown     Apartment        within a day\n",
       "3583            Charlestown     Apartment      within an hour\n",
       "3584            Charlestown     Apartment      within an hour\n",
       "\n",
       "[3557 rows x 3 columns]"
      ]
     },
     "execution_count": 198,
     "metadata": {},
     "output_type": "execute_result"
    }
   ],
   "source": [
    "cat_price_dataset_copy = price_dataset_copy.select_dtypes(include=['object'])\n",
    "cat_price_dataset_copy"
   ]
  },
  {
   "cell_type": "markdown",
   "metadata": {},
   "source": [
    "### **Busniess Questions for boston airbnb datast**"
   ]
  },
  {
   "cell_type": "markdown",
   "metadata": {},
   "source": [
    "#### 1) **Which features influence the property price?**"
   ]
  },
  {
   "cell_type": "code",
   "execution_count": 199,
   "metadata": {},
   "outputs": [
    {
     "data": {
      "text/html": [
       "<div>\n",
       "<style scoped>\n",
       "    .dataframe tbody tr th:only-of-type {\n",
       "        vertical-align: middle;\n",
       "    }\n",
       "\n",
       "    .dataframe tbody tr th {\n",
       "        vertical-align: top;\n",
       "    }\n",
       "\n",
       "    .dataframe thead th {\n",
       "        text-align: right;\n",
       "    }\n",
       "</style>\n",
       "<table border=\"1\" class=\"dataframe\">\n",
       "  <thead>\n",
       "    <tr style=\"text-align: right;\">\n",
       "      <th></th>\n",
       "      <th>id</th>\n",
       "      <th>scrape_id</th>\n",
       "      <th>host_id</th>\n",
       "      <th>host_listings_count</th>\n",
       "      <th>host_total_listings_count</th>\n",
       "      <th>latitude</th>\n",
       "      <th>longitude</th>\n",
       "      <th>accommodates</th>\n",
       "      <th>bathrooms</th>\n",
       "      <th>bedrooms</th>\n",
       "      <th>...</th>\n",
       "      <th>review_scores_communication</th>\n",
       "      <th>review_scores_location</th>\n",
       "      <th>review_scores_value</th>\n",
       "      <th>calculated_host_listings_count</th>\n",
       "      <th>reviews_per_month</th>\n",
       "      <th>superhost</th>\n",
       "      <th>neighbourhood_cleansed</th>\n",
       "      <th>cancellation_policy</th>\n",
       "      <th>property_type</th>\n",
       "      <th>host_response_time</th>\n",
       "    </tr>\n",
       "    <tr>\n",
       "      <th>room_type</th>\n",
       "      <th></th>\n",
       "      <th></th>\n",
       "      <th></th>\n",
       "      <th></th>\n",
       "      <th></th>\n",
       "      <th></th>\n",
       "      <th></th>\n",
       "      <th></th>\n",
       "      <th></th>\n",
       "      <th></th>\n",
       "      <th></th>\n",
       "      <th></th>\n",
       "      <th></th>\n",
       "      <th></th>\n",
       "      <th></th>\n",
       "      <th></th>\n",
       "      <th></th>\n",
       "      <th></th>\n",
       "      <th></th>\n",
       "      <th></th>\n",
       "      <th></th>\n",
       "    </tr>\n",
       "  </thead>\n",
       "  <tbody>\n",
       "    <tr>\n",
       "      <th>Entire home/apt</th>\n",
       "      <td>2113</td>\n",
       "      <td>2113</td>\n",
       "      <td>2113</td>\n",
       "      <td>2113</td>\n",
       "      <td>2113</td>\n",
       "      <td>2113</td>\n",
       "      <td>2113</td>\n",
       "      <td>2113</td>\n",
       "      <td>2113</td>\n",
       "      <td>2113</td>\n",
       "      <td>...</td>\n",
       "      <td>2113</td>\n",
       "      <td>2113</td>\n",
       "      <td>2113</td>\n",
       "      <td>2113</td>\n",
       "      <td>2113</td>\n",
       "      <td>2113</td>\n",
       "      <td>2113</td>\n",
       "      <td>2113</td>\n",
       "      <td>2111</td>\n",
       "      <td>1856</td>\n",
       "    </tr>\n",
       "    <tr>\n",
       "      <th>Private room</th>\n",
       "      <td>1365</td>\n",
       "      <td>1365</td>\n",
       "      <td>1365</td>\n",
       "      <td>1365</td>\n",
       "      <td>1365</td>\n",
       "      <td>1365</td>\n",
       "      <td>1365</td>\n",
       "      <td>1365</td>\n",
       "      <td>1365</td>\n",
       "      <td>1365</td>\n",
       "      <td>...</td>\n",
       "      <td>1365</td>\n",
       "      <td>1365</td>\n",
       "      <td>1365</td>\n",
       "      <td>1365</td>\n",
       "      <td>1365</td>\n",
       "      <td>1365</td>\n",
       "      <td>1365</td>\n",
       "      <td>1365</td>\n",
       "      <td>1364</td>\n",
       "      <td>1164</td>\n",
       "    </tr>\n",
       "    <tr>\n",
       "      <th>Shared room</th>\n",
       "      <td>79</td>\n",
       "      <td>79</td>\n",
       "      <td>79</td>\n",
       "      <td>79</td>\n",
       "      <td>79</td>\n",
       "      <td>79</td>\n",
       "      <td>79</td>\n",
       "      <td>79</td>\n",
       "      <td>79</td>\n",
       "      <td>79</td>\n",
       "      <td>...</td>\n",
       "      <td>79</td>\n",
       "      <td>79</td>\n",
       "      <td>79</td>\n",
       "      <td>79</td>\n",
       "      <td>79</td>\n",
       "      <td>79</td>\n",
       "      <td>79</td>\n",
       "      <td>79</td>\n",
       "      <td>79</td>\n",
       "      <td>68</td>\n",
       "    </tr>\n",
       "  </tbody>\n",
       "</table>\n",
       "<p>3 rows × 36 columns</p>\n",
       "</div>"
      ],
      "text/plain": [
       "                   id  scrape_id  host_id  host_listings_count  \\\n",
       "room_type                                                        \n",
       "Entire home/apt  2113       2113     2113                 2113   \n",
       "Private room     1365       1365     1365                 1365   \n",
       "Shared room        79         79       79                   79   \n",
       "\n",
       "                 host_total_listings_count  latitude  longitude  accommodates  \\\n",
       "room_type                                                                       \n",
       "Entire home/apt                       2113      2113       2113          2113   \n",
       "Private room                          1365      1365       1365          1365   \n",
       "Shared room                             79        79         79            79   \n",
       "\n",
       "                 bathrooms  bedrooms  ...  review_scores_communication  \\\n",
       "room_type                             ...                                \n",
       "Entire home/apt       2113      2113  ...                         2113   \n",
       "Private room          1365      1365  ...                         1365   \n",
       "Shared room             79        79  ...                           79   \n",
       "\n",
       "                 review_scores_location  review_scores_value  \\\n",
       "room_type                                                      \n",
       "Entire home/apt                    2113                 2113   \n",
       "Private room                       1365                 1365   \n",
       "Shared room                          79                   79   \n",
       "\n",
       "                 calculated_host_listings_count  reviews_per_month  superhost  \\\n",
       "room_type                                                                       \n",
       "Entire home/apt                            2113               2113       2113   \n",
       "Private room                               1365               1365       1365   \n",
       "Shared room                                  79                 79         79   \n",
       "\n",
       "                 neighbourhood_cleansed  cancellation_policy  property_type  \\\n",
       "room_type                                                                     \n",
       "Entire home/apt                    2113                 2113           2111   \n",
       "Private room                       1365                 1365           1364   \n",
       "Shared room                          79                   79             79   \n",
       "\n",
       "                 host_response_time  \n",
       "room_type                            \n",
       "Entire home/apt                1856  \n",
       "Private room                   1164  \n",
       "Shared room                      68  \n",
       "\n",
       "[3 rows x 36 columns]"
      ]
     },
     "execution_count": 199,
     "metadata": {},
     "output_type": "execute_result"
    }
   ],
   "source": [
    "price_dataset.groupby(['room_type']).count()"
   ]
  },
  {
   "cell_type": "code",
   "execution_count": 200,
   "metadata": {},
   "outputs": [
    {
     "data": {
      "text/plain": [
       "<matplotlib.legend.Legend at 0x7fac3d7d0220>"
      ]
     },
     "execution_count": 200,
     "metadata": {},
     "output_type": "execute_result"
    },
    {
     "data": {
      "image/png": "[encoded data removed]",
      "text/plain": [
       "<Figure size 1040x400 with 2 Axes>"
      ]
     },
     "metadata": {
      "needs_background": "light"
     },
     "output_type": "display_data"
    }
   ],
   "source": [
    "import warnings\n",
    "warnings.filterwarnings(\"ignore\")\n",
    "fig, axs = plt.subplots(1, 2, figsize=(13, 5), dpi=80)\n",
    "sns.countplot(x = 'room_type', data = price_dataset, \n",
    "              palette = 'deep', ax=axs[0]).set_title(\"Number of Properties based on Room Type\")\n",
    "axs[0].set_xlabel('Room Type')\n",
    "\n",
    "\n",
    "#Visualize and understand the distriution of pricing among the each room type.\n",
    "sns.distplot(price_dataset[price_dataset.room_type == 'Private room']['price'],\n",
    "             kde=False, ax=axs[1], label='Private room')\n",
    "sns.distplot(price_dataset[price_dataset.room_type == 'Shared room']['price'],\n",
    "             kde=False, ax=axs[1], label='Shared room')\n",
    "sns.distplot(price_dataset[price_dataset.room_type == 'Entire home/apt']['price'],\n",
    "             kde=False, ax=axs[1], label='Entire home/apt')\n",
    "\n",
    "axs[1].set_xlim(0, 600)\n",
    "axs[1].set_title('Room Type')\n",
    "axs[1].set_xlabel('Price ($)')\n",
    "axs[1].legend()"
   ]
  },
  {
   "cell_type": "markdown",
   "metadata": {},
   "source": [
    "###\n",
    "1. The larget portation of the room type in boston is Entire home/apt and the smallerst portation of the room type is the share room.\n",
    "2. The price of entire home/apt rooms domoniates the market and has a max distribution between 200 -300 dollars"
   ]
  },
  {
   "cell_type": "code",
   "execution_count": 201,
   "metadata": {},
   "outputs": [
    {
     "data": {
      "text/plain": [
       "<matplotlib.legend.Legend at 0x7fac3a76e580>"
      ]
     },
     "execution_count": 201,
     "metadata": {},
     "output_type": "execute_result"
    },
    {
     "data": {
      "image/png": "[encoded data removed]",
      "text/plain": [
       "<Figure size 1200x400 with 2 Axes>"
      ]
     },
     "metadata": {
      "needs_background": "light"
     },
     "output_type": "display_data"
    }
   ],
   "source": [
    "fig, axs = plt.subplots(1, 2, figsize=(15, 5), dpi=80)\n",
    "sns.set_style(style=\"whitegrid\")\n",
    "sns.color_palette(\"husl\", 9)\n",
    "# Neighbourhoods\n",
    "neighbourhoods = price_dataset.groupby('neighbourhood_cleansed').agg(\n",
    "    {\n",
    "        'price': np.mean\n",
    "    }\n",
    ").reset_index()\n",
    "sns.barplot(\n",
    "    x='price', y='neighbourhood_cleansed',\n",
    "    data=neighbourhoods.sort_values('price'),\n",
    "    orient='h',\n",
    "    palette='muted',\n",
    "    ax=axs[0]\n",
    ")\n",
    "axs[0].set_title('Neighbourhood and Pricing')\n",
    "axs[0].set_xlabel('Mean Price ($)')\n",
    "axs[0].set_ylabel('')\n",
    "\n",
    "sns.barplot(x=\"room_type\", y=\"price\", hue= 'bedrooms', data= df_roomtype, \n",
    "            palette= 'muted', ax=axs[1])\n",
    "\n",
    "axs[1].set_title('Price difference in each room type based on bedrooms')\n",
    "axs[1].set_xlabel('Room Type')\n",
    "axs[1].legend()"
   ]
  },
  {
   "cell_type": "markdown",
   "metadata": {},
   "source": [
    "####\n",
    "1. **It is obvious to conclude that the proterty price is positively realted to neighbourhood.**\n",
    "2. **It is obvious to conclude that for the same room type, the price will increase as adding more bedrooms**"
   ]
  },
  {
   "cell_type": "code",
   "execution_count": 205,
   "metadata": {},
   "outputs": [
    {
     "data": {
      "text/plain": [
       "Text(0, 0.5, '')"
      ]
     },
     "execution_count": 205,
     "metadata": {},
     "output_type": "execute_result"
    },
    {
     "data": {
      "image/png": "[encoded data removed]",
      "text/plain": [
       "<Figure size 1350x450 with 2 Axes>"
      ]
     },
     "metadata": {},
     "output_type": "display_data"
    }
   ],
   "source": [
    "fig, axs = plt.subplots(1, 2, figsize=(15, 5), dpi=90)\n",
    "sns.set_style(style=\"whitegrid\")\n",
    "\n",
    "# Cancellation Policy\n",
    "sns.boxplot(x='price', y='cancellation_policy', fliersize=1, linewidth=0.75,\n",
    "            data=price_dataset, palette='muted', ax=axs[0],\n",
    "            order=['flexible', 'moderate', 'strict', 'super_strict_30'])\n",
    "axs[0].set_xlim(0, 600)\n",
    "axs[0].set_title('Cancellation Policy and Pricing')\n",
    "axs[0].set_xlabel('Price ($)')\n",
    "axs[0].set_ylabel('')\n",
    "#calendar\n",
    "sns.boxplot(x='price', y='property_type', fliersize=1, linewidth=0.75,\n",
    "            data=price_dataset, palette='muted', ax=axs[ 1])\n",
    "axs[ 1].set_xlim(0, 600)\n",
    "axs[ 1].set_title('Property Type and Pricing')\n",
    "axs[ 1].set_xlabel('Price ($)')\n",
    "axs[ 1].set_ylabel('')"
   ]
  },
  {
   "cell_type": "markdown",
   "metadata": {},
   "source": [
    "####\n",
    "1. **It is obvious to conclude that the proterty price is positively realted to cancellation Policy.**\n",
    "2. **It is obvious to conclude that the price is postive related to different types that the property has**"
   ]
  },
  {
   "cell_type": "markdown",
   "metadata": {},
   "source": [
    "#### 2. Is the superhost acting well compared with other people?"
   ]
  },
  {
   "cell_type": "code",
   "execution_count": 217,
   "metadata": {},
   "outputs": [
    {
     "data": {
      "text/plain": [
       "Text(0.5, 1.0, 'Superhost Number')"
      ]
     },
     "execution_count": 217,
     "metadata": {},
     "output_type": "execute_result"
    },
    {
     "data": {
      "image/png": "[encoded data removed]",
      "text/plain": [
       "<Figure size 432x288 with 1 Axes>"
      ]
     },
     "metadata": {},
     "output_type": "display_data"
    }
   ],
   "source": [
    "sns.countplot(x=\"superhost\", data=price_dataset).set_title(\"Superhost Number\")"
   ]
  },
  {
   "cell_type": "markdown",
   "metadata": {},
   "source": [
    "#### The superhost is way less than normal host"
   ]
  },
  {
   "cell_type": "code",
   "execution_count": 219,
   "metadata": {},
   "outputs": [
    {
     "data": {
      "text/plain": [
       "superhost  host_response_time\n",
       "f          a few days or more      43\n",
       "           within a day           429\n",
       "           within a few hours    1063\n",
       "           within an hour        1151\n",
       "t          within a day            35\n",
       "           within a few hours     142\n",
       "           within an hour         225\n",
       "dtype: int64"
      ]
     },
     "execution_count": 219,
     "metadata": {},
     "output_type": "execute_result"
    }
   ],
   "source": [
    "response_time = price_dataset.groupby(['superhost', 'host_response_time']).size()\n",
    "response_time"
   ]
  },
  {
   "cell_type": "code",
   "execution_count": 223,
   "metadata": {},
   "outputs": [
    {
     "data": {
      "text/html": [
       "<div>\n",
       "<style scoped>\n",
       "    .dataframe tbody tr th:only-of-type {\n",
       "        vertical-align: middle;\n",
       "    }\n",
       "\n",
       "    .dataframe tbody tr th {\n",
       "        vertical-align: top;\n",
       "    }\n",
       "\n",
       "    .dataframe thead th {\n",
       "        text-align: right;\n",
       "    }\n",
       "</style>\n",
       "<table border=\"1\" class=\"dataframe\">\n",
       "  <thead>\n",
       "    <tr style=\"text-align: right;\">\n",
       "      <th></th>\n",
       "      <th>superhost</th>\n",
       "      <th>host_response_time</th>\n",
       "      <th>counts</th>\n",
       "    </tr>\n",
       "  </thead>\n",
       "  <tbody>\n",
       "    <tr>\n",
       "      <th>0</th>\n",
       "      <td>f</td>\n",
       "      <td>a few days or more</td>\n",
       "      <td>0.013651</td>\n",
       "    </tr>\n",
       "    <tr>\n",
       "      <th>1</th>\n",
       "      <td>f</td>\n",
       "      <td>within a day</td>\n",
       "      <td>0.136190</td>\n",
       "    </tr>\n",
       "    <tr>\n",
       "      <th>2</th>\n",
       "      <td>f</td>\n",
       "      <td>within a few hours</td>\n",
       "      <td>0.337460</td>\n",
       "    </tr>\n",
       "    <tr>\n",
       "      <th>3</th>\n",
       "      <td>f</td>\n",
       "      <td>within an hour</td>\n",
       "      <td>0.365397</td>\n",
       "    </tr>\n",
       "    <tr>\n",
       "      <th>4</th>\n",
       "      <td>t</td>\n",
       "      <td>within a day</td>\n",
       "      <td>0.085995</td>\n",
       "    </tr>\n",
       "    <tr>\n",
       "      <th>5</th>\n",
       "      <td>t</td>\n",
       "      <td>within a few hours</td>\n",
       "      <td>0.348894</td>\n",
       "    </tr>\n",
       "    <tr>\n",
       "      <th>6</th>\n",
       "      <td>t</td>\n",
       "      <td>within an hour</td>\n",
       "      <td>0.552826</td>\n",
       "    </tr>\n",
       "  </tbody>\n",
       "</table>\n",
       "</div>"
      ],
      "text/plain": [
       "  superhost  host_response_time    counts\n",
       "0         f  a few days or more  0.013651\n",
       "1         f        within a day  0.136190\n",
       "2         f  within a few hours  0.337460\n",
       "3         f      within an hour  0.365397\n",
       "4         t        within a day  0.085995\n",
       "5         t  within a few hours  0.348894\n",
       "6         t      within an hour  0.552826"
      ]
     },
     "execution_count": 223,
     "metadata": {},
     "output_type": "execute_result"
    }
   ],
   "source": [
    "# Need to normlalize to mean values\n",
    "normalise_mean = response_time / price_dataset.groupby(['superhost']).size()\n",
    "normalise_mean = normalise_mean.reset_index(name='counts')\n",
    "normalise_mean"
   ]
  },
  {
   "cell_type": "code",
   "execution_count": 225,
   "metadata": {},
   "outputs": [
    {
     "data": {
      "application/vnd.plotly.v1+json": {
       "config": {
        "plotlyServerURL": "https://plot.ly"
       },
       "data": [
        {
         "alignmentgroup": "True",
         "customdata": [
          [
           "a few days or more"
          ]
         ],
         "hovertemplate": "host_response_time=%{customdata[0]}<br>superhost=%{x}<br>counts=%{y}<extra></extra>",
         "legendgroup": "a few days or more",
         "marker": {
          "color": "#636efa",
          "pattern": {
           "shape": ""
          }
         },
         "name": "a few days or more",
         "offsetgroup": "a few days or more",
         "orientation": "v",
         "showlegend": true,
         "textposition": "auto",
         "type": "bar",
         "x": [
          "f"
         ],
         "xaxis": "x",
         "y": [
          0.013650793650793651
         ],
         "yaxis": "y"
        },
        {
         "alignmentgroup": "True",
         "customdata": [
          [
           "within a day"
          ],
          [
           "within a day"
          ]
         ],
         "hovertemplate": "host_response_time=%{customdata[0]}<br>superhost=%{x}<br>counts=%{y}<extra></extra>",
         "legendgroup": "within a day",
         "marker": {
          "color": "#EF553B",
          "pattern": {
           "shape": ""
          }
         },
         "name": "within a day",
         "offsetgroup": "within a day",
         "orientation": "v",
         "showlegend": true,
         "textposition": "auto",
         "type": "bar",
         "x": [
          "f",
          "t"
         ],
         "xaxis": "x",
         "y": [
          0.1361904761904762,
          0.085995085995086
         ],
         "yaxis": "y"
        },
        {
         "alignmentgroup": "True",
         "customdata": [
          [
           "within a few hours"
          ],
          [
           "within a few hours"
          ]
         ],
         "hovertemplate": "host_response_time=%{customdata[0]}<br>superhost=%{x}<br>counts=%{y}<extra></extra>",
         "legendgroup": "within a few hours",
         "marker": {
          "color": "#00cc96",
          "pattern": {
           "shape": ""
          }
         },
         "name": "within a few hours",
         "offsetgroup": "within a few hours",
         "orientation": "v",
         "showlegend": true,
         "textposition": "auto",
         "type": "bar",
         "x": [
          "f",
          "t"
         ],
         "xaxis": "x",
         "y": [
          0.33746031746031746,
          0.3488943488943489
         ],
         "yaxis": "y"
        },
        {
         "alignmentgroup": "True",
         "customdata": [
          [
           "within an hour"
          ],
          [
           "within an hour"
          ]
         ],
         "hovertemplate": "host_response_time=%{customdata[0]}<br>superhost=%{x}<br>counts=%{y}<extra></extra>",
         "legendgroup": "within an hour",
         "marker": {
          "color": "#ab63fa",
          "pattern": {
           "shape": ""
          }
         },
         "name": "within an hour",
         "offsetgroup": "within an hour",
         "orientation": "v",
         "showlegend": true,
         "textposition": "auto",
         "type": "bar",
         "x": [
          "f",
          "t"
         ],
         "xaxis": "x",
         "y": [
          0.3653968253968254,
          0.5528255528255528
         ],
         "yaxis": "y"
        }
       ],
       "layout": {
        "barmode": "stack",
        "height": 450,
        "legend": {
         "title": {
          "text": "host_response_time"
         },
         "tracegroupgap": 0
        },
        "template": {
         "data": {
          "bar": [
           {
            "error_x": {
             "color": "#2a3f5f"
            },
            "error_y": {
             "color": "#2a3f5f"
            },
            "marker": {
             "line": {
              "color": "#E5ECF6",
              "width": 0.5
             },
             "pattern": {
              "fillmode": "overlay",
              "size": 10,
              "solidity": 0.2
             }
            },
            "type": "bar"
           }
          ],
          "barpolar": [
           {
            "marker": {
             "line": {
              "color": "#E5ECF6",
              "width": 0.5
             },
             "pattern": {
              "fillmode": "overlay",
              "size": 10,
              "solidity": 0.2
             }
            },
            "type": "barpolar"
           }
          ],
          "carpet": [
           {
            "aaxis": {
             "endlinecolor": "#2a3f5f",
             "gridcolor": "white",
             "linecolor": "white",
             "minorgridcolor": "white",
             "startlinecolor": "#2a3f5f"
            },
            "baxis": {
             "endlinecolor": "#2a3f5f",
             "gridcolor": "white",
             "linecolor": "white",
             "minorgridcolor": "white",
             "startlinecolor": "#2a3f5f"
            },
            "type": "carpet"
           }
          ],
          "choropleth": [
           {
            "colorbar": {
             "outlinewidth": 0,
             "ticks": ""
            },
            "type": "choropleth"
           }
          ],
          "contour": [
           {
            "colorbar": {
             "outlinewidth": 0,
             "ticks": ""
            },
            "colorscale": [
             [
              0,
              "#0d0887"
             ],
             [
              0.1111111111111111,
              "#46039f"
             ],
             [
              0.2222222222222222,
              "#7201a8"
             ],
             [
              0.3333333333333333,
              "#9c179e"
             ],
             [
              0.4444444444444444,
              "#bd3786"
             ],
             [
              0.5555555555555556,
              "#d8576b"
             ],
             [
              0.6666666666666666,
              "#ed7953"
             ],
             [
              0.7777777777777778,
              "#fb9f3a"
             ],
             [
              0.8888888888888888,
              "#fdca26"
             ],
             [
              1,
              "#f0f921"
             ]
            ],
            "type": "contour"
           }
          ],
          "contourcarpet": [
           {
            "colorbar": {
             "outlinewidth": 0,
             "ticks": ""
            },
            "type": "contourcarpet"
           }
          ],
          "heatmap": [
           {
            "colorbar": {
             "outlinewidth": 0,
             "ticks": ""
            },
            "colorscale": [
             [
              0,
              "#0d0887"
             ],
             [
              0.1111111111111111,
              "#46039f"
             ],
             [
              0.2222222222222222,
              "#7201a8"
             ],
             [
              0.3333333333333333,
              "#9c179e"
             ],
             [
              0.4444444444444444,
              "#bd3786"
             ],
             [
              0.5555555555555556,
              "#d8576b"
             ],
             [
              0.6666666666666666,
              "#ed7953"
             ],
             [
              0.7777777777777778,
              "#fb9f3a"
             ],
             [
              0.8888888888888888,
              "#fdca26"
             ],
             [
              1,
              "#f0f921"
             ]
            ],
            "type": "heatmap"
           }
          ],
          "heatmapgl": [
           {
            "colorbar": {
             "outlinewidth": 0,
             "ticks": ""
            },
            "colorscale": [
             [
              0,
              "#0d0887"
             ],
             [
              0.1111111111111111,
              "#46039f"
             ],
             [
              0.2222222222222222,
              "#7201a8"
             ],
             [
              0.3333333333333333,
              "#9c179e"
             ],
             [
              0.4444444444444444,
              "#bd3786"
             ],
             [
              0.5555555555555556,
              "#d8576b"
             ],
             [
              0.6666666666666666,
              "#ed7953"
             ],
             [
              0.7777777777777778,
              "#fb9f3a"
             ],
             [
              0.8888888888888888,
              "#fdca26"
             ],
             [
              1,
              "#f0f921"
             ]
            ],
            "type": "heatmapgl"
           }
          ],
          "histogram": [
           {
            "marker": {
             "pattern": {
              "fillmode": "overlay",
              "size": 10,
              "solidity": 0.2
             }
            },
            "type": "histogram"
           }
          ],
          "histogram2d": [
           {
            "colorbar": {
             "outlinewidth": 0,
             "ticks": ""
            },
            "colorscale": [
             [
              0,
              "#0d0887"
             ],
             [
              0.1111111111111111,
              "#46039f"
             ],
             [
              0.2222222222222222,
              "#7201a8"
             ],
             [
              0.3333333333333333,
              "#9c179e"
             ],
             [
              0.4444444444444444,
              "#bd3786"
             ],
             [
              0.5555555555555556,
              "#d8576b"
             ],
             [
              0.6666666666666666,
              "#ed7953"
             ],
             [
              0.7777777777777778,
              "#fb9f3a"
             ],
             [
              0.8888888888888888,
              "#fdca26"
             ],
             [
              1,
              "#f0f921"
             ]
            ],
            "type": "histogram2d"
           }
          ],
          "histogram2dcontour": [
           {
            "colorbar": {
             "outlinewidth": 0,
             "ticks": ""
            },
            "colorscale": [
             [
              0,
              "#0d0887"
             ],
             [
              0.1111111111111111,
              "#46039f"
             ],
             [
              0.2222222222222222,
              "#7201a8"
             ],
             [
              0.3333333333333333,
              "#9c179e"
             ],
             [
              0.4444444444444444,
              "#bd3786"
             ],
             [
              0.5555555555555556,
              "#d8576b"
             ],
             [
              0.6666666666666666,
              "#ed7953"
             ],
             [
              0.7777777777777778,
              "#fb9f3a"
             ],
             [
              0.8888888888888888,
              "#fdca26"
             ],
             [
              1,
              "#f0f921"
             ]
            ],
            "type": "histogram2dcontour"
           }
          ],
          "mesh3d": [
           {
            "colorbar": {
             "outlinewidth": 0,
             "ticks": ""
            },
            "type": "mesh3d"
           }
          ],
          "parcoords": [
           {
            "line": {
             "colorbar": {
              "outlinewidth": 0,
              "ticks": ""
             }
            },
            "type": "parcoords"
           }
          ],
          "pie": [
           {
            "automargin": true,
            "type": "pie"
           }
          ],
          "scatter": [
           {
            "fillpattern": {
             "fillmode": "overlay",
             "size": 10,
             "solidity": 0.2
            },
            "type": "scatter"
           }
          ],
          "scatter3d": [
           {
            "line": {
             "colorbar": {
              "outlinewidth": 0,
              "ticks": ""
             }
            },
            "marker": {
             "colorbar": {
              "outlinewidth": 0,
              "ticks": ""
             }
            },
            "type": "scatter3d"
           }
          ],
          "scattercarpet": [
           {
            "marker": {
             "colorbar": {
              "outlinewidth": 0,
              "ticks": ""
             }
            },
            "type": "scattercarpet"
           }
          ],
          "scattergeo": [
           {
            "marker": {
             "colorbar": {
              "outlinewidth": 0,
              "ticks": ""
             }
            },
            "type": "scattergeo"
           }
          ],
          "scattergl": [
           {
            "marker": {
             "colorbar": {
              "outlinewidth": 0,
              "ticks": ""
             }
            },
            "type": "scattergl"
           }
          ],
          "scattermapbox": [
           {
            "marker": {
             "colorbar": {
              "outlinewidth": 0,
              "ticks": ""
             }
            },
            "type": "scattermapbox"
           }
          ],
          "scatterpolar": [
           {
            "marker": {
             "colorbar": {
              "outlinewidth": 0,
              "ticks": ""
             }
            },
            "type": "scatterpolar"
           }
          ],
          "scatterpolargl": [
           {
            "marker": {
             "colorbar": {
              "outlinewidth": 0,
              "ticks": ""
             }
            },
            "type": "scatterpolargl"
           }
          ],
          "scatterternary": [
           {
            "marker": {
             "colorbar": {
              "outlinewidth": 0,
              "ticks": ""
             }
            },
            "type": "scatterternary"
           }
          ],
          "surface": [
           {
            "colorbar": {
             "outlinewidth": 0,
             "ticks": ""
            },
            "colorscale": [
             [
              0,
              "#0d0887"
             ],
             [
              0.1111111111111111,
              "#46039f"
             ],
             [
              0.2222222222222222,
              "#7201a8"
             ],
             [
              0.3333333333333333,
              "#9c179e"
             ],
             [
              0.4444444444444444,
              "#bd3786"
             ],
             [
              0.5555555555555556,
              "#d8576b"
             ],
             [
              0.6666666666666666,
              "#ed7953"
             ],
             [
              0.7777777777777778,
              "#fb9f3a"
             ],
             [
              0.8888888888888888,
              "#fdca26"
             ],
             [
              1,
              "#f0f921"
             ]
            ],
            "type": "surface"
           }
          ],
          "table": [
           {
            "cells": {
             "fill": {
              "color": "#EBF0F8"
             },
             "line": {
              "color": "white"
             }
            },
            "header": {
             "fill": {
              "color": "#C8D4E3"
             },
             "line": {
              "color": "white"
             }
            },
            "type": "table"
           }
          ]
         },
         "layout": {
          "annotationdefaults": {
           "arrowcolor": "#2a3f5f",
           "arrowhead": 0,
           "arrowwidth": 1
          },
          "autotypenumbers": "strict",
          "coloraxis": {
           "colorbar": {
            "outlinewidth": 0,
            "ticks": ""
           }
          },
          "colorscale": {
           "diverging": [
            [
             0,
             "#8e0152"
            ],
            [
             0.1,
             "#c51b7d"
            ],
            [
             0.2,
             "#de77ae"
            ],
            [
             0.3,
             "#f1b6da"
            ],
            [
             0.4,
             "#fde0ef"
            ],
            [
             0.5,
             "#f7f7f7"
            ],
            [
             0.6,
             "#e6f5d0"
            ],
            [
             0.7,
             "#b8e186"
            ],
            [
             0.8,
             "#7fbc41"
            ],
            [
             0.9,
             "#4d9221"
            ],
            [
             1,
             "#276419"
            ]
           ],
           "sequential": [
            [
             0,
             "#0d0887"
            ],
            [
             0.1111111111111111,
             "#46039f"
            ],
            [
             0.2222222222222222,
             "#7201a8"
            ],
            [
             0.3333333333333333,
             "#9c179e"
            ],
            [
             0.4444444444444444,
             "#bd3786"
            ],
            [
             0.5555555555555556,
             "#d8576b"
            ],
            [
             0.6666666666666666,
             "#ed7953"
            ],
            [
             0.7777777777777778,
             "#fb9f3a"
            ],
            [
             0.8888888888888888,
             "#fdca26"
            ],
            [
             1,
             "#f0f921"
            ]
           ],
           "sequentialminus": [
            [
             0,
             "#0d0887"
            ],
            [
             0.1111111111111111,
             "#46039f"
            ],
            [
             0.2222222222222222,
             "#7201a8"
            ],
            [
             0.3333333333333333,
             "#9c179e"
            ],
            [
             0.4444444444444444,
             "#bd3786"
            ],
            [
             0.5555555555555556,
             "#d8576b"
            ],
            [
             0.6666666666666666,
             "#ed7953"
            ],
            [
             0.7777777777777778,
             "#fb9f3a"
            ],
            [
             0.8888888888888888,
             "#fdca26"
            ],
            [
             1,
             "#f0f921"
            ]
           ]
          },
          "colorway": [
           "#636efa",
           "#EF553B",
           "#00cc96",
           "#ab63fa",
           "#FFA15A",
           "#19d3f3",
           "#FF6692",
           "#B6E880",
           "#FF97FF",
           "#FECB52"
          ],
          "font": {
           "color": "#2a3f5f"
          },
          "geo": {
           "bgcolor": "white",
           "lakecolor": "white",
           "landcolor": "#E5ECF6",
           "showlakes": true,
           "showland": true,
           "subunitcolor": "white"
          },
          "hoverlabel": {
           "align": "left"
          },
          "hovermode": "closest",
          "mapbox": {
           "style": "light"
          },
          "paper_bgcolor": "white",
          "plot_bgcolor": "#E5ECF6",
          "polar": {
           "angularaxis": {
            "gridcolor": "white",
            "linecolor": "white",
            "ticks": ""
           },
           "bgcolor": "#E5ECF6",
           "radialaxis": {
            "gridcolor": "white",
            "linecolor": "white",
            "ticks": ""
           }
          },
          "scene": {
           "xaxis": {
            "backgroundcolor": "#E5ECF6",
            "gridcolor": "white",
            "gridwidth": 2,
            "linecolor": "white",
            "showbackground": true,
            "ticks": "",
            "zerolinecolor": "white"
           },
           "yaxis": {
            "backgroundcolor": "#E5ECF6",
            "gridcolor": "white",
            "gridwidth": 2,
            "linecolor": "white",
            "showbackground": true,
            "ticks": "",
            "zerolinecolor": "white"
           },
           "zaxis": {
            "backgroundcolor": "#E5ECF6",
            "gridcolor": "white",
            "gridwidth": 2,
            "linecolor": "white",
            "showbackground": true,
            "ticks": "",
            "zerolinecolor": "white"
           }
          },
          "shapedefaults": {
           "line": {
            "color": "#2a3f5f"
           }
          },
          "ternary": {
           "aaxis": {
            "gridcolor": "white",
            "linecolor": "white",
            "ticks": ""
           },
           "baxis": {
            "gridcolor": "white",
            "linecolor": "white",
            "ticks": ""
           },
           "bgcolor": "#E5ECF6",
           "caxis": {
            "gridcolor": "white",
            "linecolor": "white",
            "ticks": ""
           }
          },
          "title": {
           "x": 0.05
          },
          "xaxis": {
           "automargin": true,
           "gridcolor": "white",
           "linecolor": "white",
           "ticks": "",
           "title": {
            "standoff": 15
           },
           "zerolinecolor": "white",
           "zerolinewidth": 2
          },
          "yaxis": {
           "automargin": true,
           "gridcolor": "white",
           "linecolor": "white",
           "ticks": "",
           "title": {
            "standoff": 15
           },
           "zerolinecolor": "white",
           "zerolinewidth": 2
          }
         }
        },
        "title": {
         "text": "Average response time superhost vs non-superhost"
        },
        "width": 650,
        "xaxis": {
         "anchor": "y",
         "domain": [
          0,
          1
         ],
         "title": {
          "text": "superhost"
         }
        },
        "yaxis": {
         "anchor": "x",
         "domain": [
          0,
          1
         ],
         "title": {
          "text": "counts"
         }
        }
       }
      }
     },
     "metadata": {},
     "output_type": "display_data"
    }
   ],
   "source": [
    "px.bar(normalise_mean\n",
    ", x=\"superhost\", y=\"counts\", color=\"host_response_time\",\n",
    "            hover_data=['host_response_time'], barmode = 'stack', width=650, height=450,\n",
    "      title=\"Average response time superhost vs non-superhost\")"
   ]
  },
  {
   "cell_type": "markdown",
   "metadata": {},
   "source": [
    "#### It is clearly to obvious to conculde that the superhost has a large propotion for responding within an hour"
   ]
  },
  {
   "cell_type": "markdown",
   "metadata": {},
   "source": [
    "#### 3. Could you predict the housing price with your choice?"
   ]
  },
  {
   "cell_type": "code",
   "execution_count": 213,
   "metadata": {},
   "outputs": [
    {
     "name": "stdout",
     "output_type": "stream",
     "text": [
      "The rsquared on the training data was 0.2328414965496881.  The rsquared on the test data was 0.2534365867985363.\n"
     ]
    },
    {
     "data": {
      "text/plain": [
       "Text(0, 0.5, 'Predictions_LinearRegression(normalize=True)')"
      ]
     },
     "execution_count": 213,
     "metadata": {},
     "output_type": "execute_result"
    },
    {
     "data": {
      "image/png": "[encoded data removed]",
      "text/plain": [
       "<Figure size 960x640 with 1 Axes>"
      ]
     },
     "metadata": {},
     "output_type": "display_data"
    }
   ],
   "source": [
    "#import necessary libraries for performing prediction\n",
    "from sklearn.ensemble import RandomForestRegressor\n",
    "from sklearn.model_selection import train_test_split\n",
    "from sklearn.linear_model import LinearRegression\n",
    "from sklearn.metrics import r2_score, mean_squared_error,mean_absolute_error\n",
    "\n",
    "y = dummuy_price_dataset_copy.price\n",
    "x = dummuy_price_dataset_copy[[       'room_type', 'cancellation_policy', 'neighbourhood_cleansed_Allston',\n",
    "       'neighbourhood_cleansed_Back Bay', 'neighbourhood_cleansed_Bay Village',\n",
    "       'neighbourhood_cleansed_Beacon Hill', 'neighbourhood_cleansed_Brighton',\n",
    "       'neighbourhood_cleansed_Charlestown',\n",
    "       'neighbourhood_cleansed_Chinatown', 'neighbourhood_cleansed_Dorchester',\n",
    "       'neighbourhood_cleansed_Downtown', 'neighbourhood_cleansed_East Boston',\n",
    "       'neighbourhood_cleansed_Fenway', 'neighbourhood_cleansed_Hyde Park',\n",
    "       'neighbourhood_cleansed_Jamaica Plain',\n",
    "       'neighbourhood_cleansed_Leather District',\n",
    "       'neighbourhood_cleansed_Longwood Medical Area',\n",
    "       'neighbourhood_cleansed_Mattapan',\n",
    "       'neighbourhood_cleansed_Mission Hill',\n",
    "       'neighbourhood_cleansed_North End', 'neighbourhood_cleansed_Roslindale',\n",
    "       'neighbourhood_cleansed_Roxbury', 'neighbourhood_cleansed_South Boston',\n",
    "       'neighbourhood_cleansed_South Boston Waterfront',\n",
    "       'neighbourhood_cleansed_South End', 'neighbourhood_cleansed_West End',\n",
    "       'neighbourhood_cleansed_West Roxbury', 'property_type_Apartment',\n",
    "       'property_type_Bed & Breakfast', 'property_type_Boat',\n",
    "       'property_type_Camper/RV', 'property_type_Condominium',\n",
    "       'property_type_Dorm', 'property_type_Entire Floor',\n",
    "       'property_type_Guesthouse', 'property_type_House', 'property_type_Loft',\n",
    "       'property_type_Other', 'property_type_Townhouse', 'property_type_Villa']]\n",
    "\n",
    "X_train, X_test, y_train, y_test = train_test_split(x, y, test_size=0.30, random_state=42)\n",
    "\n",
    "lm_model = LinearRegression(normalize=True) # Instantiate\n",
    "lm_model.fit(X_train, y_train) #Fit\n",
    " #Predict using your model\n",
    "y_test_preds = lm_model.predict(X_test)\n",
    "y_train_preds = lm_model.predict(X_train)\n",
    "#Score using your model\n",
    "test_score = r2_score(y_test, y_test_preds)\n",
    "train_score = r2_score(y_train, y_train_preds)\n",
    "\n",
    "print(\"The rsquared on the training data was {}.  The rsquared on the test data was {}.\".format(train_score, test_score))\n",
    "\n",
    "fig = plt.figure(figsize=(12, 8), dpi=80)\n",
    "ax1 = fig.add_subplot(111)\n",
    "lines = plt.plot(y_test - y_test_preds,marker='o',linestyle='')\n",
    "ax1.set_xlabel('True Values_{}'.format(lm_model))\n",
    "ax1.set_ylabel('Predictions_{}'.format(lm_model))\n"
   ]
  },
  {
   "cell_type": "markdown",
   "metadata": {},
   "source": [
    "#### The R square result shows that both the train set and the test set have the similar results which validates the model"
   ]
  },
  {
   "cell_type": "markdown",
   "metadata": {},
   "source": []
  }
 ],
 "metadata": {
  "kernelspec": {
   "display_name": "Python 3.8.8 ('base')",
   "language": "python",
   "name": "python3"
  },
  "language_info": {
   "codemirror_mode": {
    "name": "ipython",
    "version": 3
   },
   "file_extension": ".py",
   "mimetype": "text/x-python",
   "name": "python",
   "nbconvert_exporter": "python",
   "pygments_lexer": "ipython3",
   "version": "3.8.8"
  },
  "orig_nbformat": 4,
  "vscode": {
   "interpreter": {
    "hash": "40d3a090f54c6569ab1632332b64b2c03c39dcf918b08424e98f38b5ae0af88f"
   }
  }
 },
 "nbformat": 4,
 "nbformat_minor": 2
}
